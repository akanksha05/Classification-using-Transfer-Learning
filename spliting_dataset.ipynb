{
 "cells": [
  {
   "cell_type": "markdown",
   "metadata": {},
   "source": [
    "# To split the dataset directory by folders into train , validtion and test"
   ]
  },
  {
   "cell_type": "code",
<<<<<<< HEAD
   "execution_count": 1,
=======
   "execution_count": 5,
>>>>>>> 5cadad59f051b655998c5b11581b4d24ae372f44
   "metadata": {},
   "outputs": [],
   "source": [
    "import os"
   ]
  },
  {
   "cell_type": "code",
<<<<<<< HEAD
   "execution_count": 2,
=======
   "execution_count": 1,
>>>>>>> 5cadad59f051b655998c5b11581b4d24ae372f44
   "metadata": {},
   "outputs": [
    {
     "name": "stdout",
     "output_type": "stream",
     "text": [
      "Requirement already satisfied: split-folders in c:\\users\\akank\\anaconda3\\envs\\tf-gpu\\lib\\site-packages (0.4.2)\n",
      "Note: you may need to restart the kernel to use updated packages.\n"
     ]
    }
   ],
   "source": [
    "pip install split-folders\n"
   ]
  },
  {
   "cell_type": "code",
<<<<<<< HEAD
   "execution_count": 3,
=======
   "execution_count": 2,
>>>>>>> 5cadad59f051b655998c5b11581b4d24ae372f44
   "metadata": {},
   "outputs": [
    {
     "name": "stdout",
     "output_type": "stream",
     "text": [
      "Requirement already satisfied: split-folders in c:\\users\\akank\\anaconda3\\envs\\tf-gpu\\lib\\site-packages (0.4.2)\n",
      "Requirement already satisfied: tqdm in c:\\users\\akank\\anaconda3\\envs\\tf-gpu\\lib\\site-packages (4.49.0)\n",
      "Note: you may need to restart the kernel to use updated packages.\n"
     ]
    }
   ],
   "source": [
    "pip install split-folders tqdm\n"
   ]
  },
  {
   "cell_type": "code",
<<<<<<< HEAD
   "execution_count": 2,
=======
   "execution_count": 3,
>>>>>>> 5cadad59f051b655998c5b11581b4d24ae372f44
   "metadata": {},
   "outputs": [],
   "source": [
    "import splitfolders\n"
   ]
  },
  {
   "cell_type": "markdown",
   "metadata": {},
   "source": [
<<<<<<< HEAD
    "# Images are divided into 80%(train), 20%(val) , 20%(test). This ratio can be changed."
=======
    "# Images are divided into 60%(train), 20%(val) , 20%(test). This ratio can be changed."
>>>>>>> 5cadad59f051b655998c5b11581b4d24ae372f44
   ]
  },
  {
   "cell_type": "code",
<<<<<<< HEAD
   "execution_count": 3,
=======
   "execution_count": 6,
>>>>>>> 5cadad59f051b655998c5b11581b4d24ae372f44
   "metadata": {},
   "outputs": [],
   "source": [
    "dir_name = 'E:/Github/flower-classification'\n",
    "original_dataset = os.path.join(dir_name, 'FlowerDataset')\n",
    "new_dataset = os.path.join(dir_name, 'SplitDataset')"
   ]
  },
  {
   "cell_type": "code",
<<<<<<< HEAD
   "execution_count": 5,
=======
   "execution_count": 7,
>>>>>>> 5cadad59f051b655998c5b11581b4d24ae372f44
   "metadata": {},
   "outputs": [
    {
     "name": "stderr",
     "output_type": "stream",
     "text": [
<<<<<<< HEAD
      "Copying files: 4323 files [01:17, 55.45 files/s] \n"
=======
      "Copying files: 4326 files [01:12, 59.28 files/s] \n"
>>>>>>> 5cadad59f051b655998c5b11581b4d24ae372f44
     ]
    }
   ],
   "source": [
    "splitfolders.ratio(original_dataset, output=new_dataset, seed=1337, ratio=(.6, .2, .2), group_prefix=None)\n"
   ]
<<<<<<< HEAD
  },
  {
   "cell_type": "code",
   "execution_count": null,
   "metadata": {},
   "outputs": [],
   "source": []
=======
>>>>>>> 5cadad59f051b655998c5b11581b4d24ae372f44
  }
 ],
 "metadata": {
  "kernelspec": {
   "display_name": "Python 3",
   "language": "python",
   "name": "python3"
  },
  "language_info": {
   "codemirror_mode": {
    "name": "ipython",
    "version": 3
   },
   "file_extension": ".py",
   "mimetype": "text/x-python",
   "name": "python",
   "nbconvert_exporter": "python",
   "pygments_lexer": "ipython3",
   "version": "3.7.7"
  }
 },
 "nbformat": 4,
 "nbformat_minor": 4
}
