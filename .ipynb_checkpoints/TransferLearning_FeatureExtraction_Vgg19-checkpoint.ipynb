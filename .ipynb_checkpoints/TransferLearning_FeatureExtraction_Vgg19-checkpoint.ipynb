{
 "cells": [
  {
   "cell_type": "markdown",
   "metadata": {
    "colab_type": "text",
    "id": "dNFcAHKCFuel"
   },
   "source": [
    "##Importing Libraries"
   ]
  },
  {
   "cell_type": "code",
   "execution_count": 1,
   "metadata": {
    "colab": {},
    "colab_type": "code",
    "id": "o1-HjeqtY6Du"
   },
   "outputs": [],
   "source": [
    "from __future__ import absolute_import, division, print_function, unicode_literals"
   ]
  },
  {
   "cell_type": "code",
   "execution_count": 2,
   "metadata": {
    "colab": {},
    "colab_type": "code",
    "id": "GfchIcXqfrJ1"
   },
   "outputs": [],
   "source": [
    "try:\n",
    "  # %tensorflow_version only exists in Colab.\n",
    "  %tensorflow_version 2.x\n",
    "except Exception:\n",
    "  pass\n",
    "import tensorflow as tf"
   ]
  },
  {
   "cell_type": "code",
   "execution_count": 3,
   "metadata": {
    "colab": {
     "base_uri": "https://localhost:8080/",
     "height": 35
    },
    "colab_type": "code",
    "executionInfo": {
     "elapsed": 894,
     "status": "ok",
     "timestamp": 1592087711874,
     "user": {
      "displayName": "tejal nijai",
      "photoUrl": "",
      "userId": "06299012164194126657"
     },
     "user_tz": -60
    },
    "id": "KEN_ZUTFeVHP",
    "outputId": "0089070a-2367-4ec6-cee1-9efd30b3eedb"
   },
   "outputs": [
    {
     "name": "stdout",
     "output_type": "stream",
     "text": [
      "2.1.0\n"
     ]
    }
   ],
   "source": [
    "print(tf.__version__)"
   ]
  },
  {
   "cell_type": "code",
   "execution_count": null,
   "metadata": {},
   "outputs": [],
   "source": [
    "pip install scikit-learn"
   ]
  },
  {
   "cell_type": "code",
   "execution_count": null,
   "metadata": {
    "colab": {
     "base_uri": "https://localhost:8080/",
     "height": 159
    },
    "colab_type": "code",
    "executionInfo": {
     "elapsed": 4768,
     "status": "ok",
     "timestamp": 1592087717095,
     "user": {
      "displayName": "tejal nijai",
      "photoUrl": "",
      "userId": "06299012164194126657"
     },
     "user_tz": -60
    },
    "id": "cNV14KicWHMO",
    "outputId": "1a413965-70df-4f61-ee0b-59f71064f651"
   },
   "outputs": [],
   "source": [
    "!pip install hypopt"
   ]
  },
  {
   "cell_type": "code",
   "execution_count": null,
   "metadata": {},
   "outputs": [],
   "source": [
    "!pip install pandas "
   ]
  },
  {
   "cell_type": "code",
   "execution_count": null,
   "metadata": {},
   "outputs": [],
   "source": [
    "!pip install matplotlib"
   ]
  },
  {
   "cell_type": "code",
   "execution_count": null,
   "metadata": {
    "colab": {},
    "colab_type": "code",
    "id": "9_-950gdWOCM"
   },
   "outputs": [],
   "source": [
    "# import tensorflow.compat.v1 as tf\n",
    "# tf.disable_v2_behavior()\n",
    "import os\n",
    "import numpy as np\n",
    "import pandas as pd\n",
    "import matplotlib.pyplot as plt \n",
    " \n",
    "# Importing sklearn libraries\n",
    "from sklearn.model_selection import GridSearchCV\n",
    "from sklearn.linear_model import LogisticRegression\n",
    "from sklearn.metrics import confusion_matrix, accuracy_score\n",
    " \n",
    "# Importing hypopt library for grid search\n",
    "from hypopt import GridSearch\n",
    " \n",
    "# Importing Keras libraries\n",
    "from tensorflow.keras import utils\n",
    "from tensorflow.keras.models import Sequential\n",
    "from tensorflow.keras.applications import VGG19\n",
    "from tensorflow.keras.applications import InceptionV3\n",
    "from tensorflow.keras.applications import imagenet_utils\n",
    "from tensorflow.keras.callbacks import ModelCheckpoint\n",
    "from tensorflow.keras.preprocessing.image import load_img\n",
    "from tensorflow.keras.preprocessing.image import img_to_array\n",
    "from tensorflow.keras.layers import Dense, Conv2D, MaxPooling2D\n",
    "from tensorflow.keras.layers import Dropout, Flatten, GlobalAveragePooling2D\n",
    " \n",
    "import warnings\n",
    "warnings.filterwarnings('ignore')"
   ]
  },
  {
   "cell_type": "code",
   "execution_count": null,
   "metadata": {
    "colab": {},
    "colab_type": "code",
    "id": "ocHyebdVf5eD"
   },
   "outputs": [],
   "source": [
    "from tensorflow.keras.models import Sequential\n",
    "from tensorflow.keras.layers import Dense, Conv2D, Flatten, Dropout, MaxPooling2D\n",
    "from tensorflow.keras.preprocessing.image import ImageDataGenerator\n",
    "\n",
    "import os\n",
    "import numpy as np\n",
    "import matplotlib.pyplot as plt\n",
    "import random\n",
    "#random.seed(600)"
   ]
  },
  {
   "cell_type": "markdown",
   "metadata": {
    "colab_type": "text",
    "id": "fu8SL0DaGFaN"
   },
   "source": [
    "##Mounting Drive"
   ]
  },
  {
   "cell_type": "code",
   "execution_count": null,
   "metadata": {
    "colab": {
     "base_uri": "https://localhost:8080/",
     "height": 126
    },
    "colab_type": "code",
    "executionInfo": {
     "elapsed": 24237,
     "status": "ok",
     "timestamp": 1592087748267,
     "user": {
      "displayName": "tejal nijai",
      "photoUrl": "",
      "userId": "06299012164194126657"
     },
     "user_tz": -60
    },
    "id": "ZNy-odJQf-ij",
    "outputId": "6fae3693-de7c-482f-c09f-a7161faced34"
   },
   "outputs": [],
   "source": [
    "# _URL = 'https://storage.googleapis.com/mledu-datasets/cats_and_dogs_filtered.zip'\n",
    "\n",
    "# path_to_zip = tf.keras.utils.get_file('cats_and_dogs.zip', origin=_URL, extract=True)\n",
    "\n",
    "# from google.colab import drive\n",
    "# drive.mount('/content/gdrive', force_remount=True)\n",
    "root_dir = \"/\"\n"
   ]
  },
  {
   "cell_type": "markdown",
   "metadata": {
    "colab_type": "text",
    "id": "pawRcNO6GO9e"
   },
   "source": [
    "##Setting Paths for Train,Validation and Test Datasets"
   ]
  },
  {
   "cell_type": "code",
   "execution_count": null,
   "metadata": {
    "colab": {},
    "colab_type": "code",
    "id": "zYZyWYsvgDRZ"
   },
   "outputs": [],
   "source": [
    "PATH = os.path.join(root_dir, 'divided-10cat')"
   ]
  },
  {
   "cell_type": "code",
   "execution_count": null,
   "metadata": {
    "colab": {},
    "colab_type": "code",
    "id": "DLgW5x-IhtFR"
   },
   "outputs": [],
   "source": [
    "train_dir = os.path.join('divided-10cat/train')\n",
    "validation_dir = os.path.join('divided-10cat/val')\n",
    "test_dir = os.path.join('divided-10cat/test')\n",
    "#Creating Category Labels\n",
    "\n",
    "from glob import glob\n",
    "#folders = glob('/content/gdrive/My Drive/Lifelog_Dataset/new_Train')\n",
    "#print(folders)\n",
    "\n",
    "New_train_labels = []\n",
    "Validation_labels = []\n",
    "Test_labels = []\n",
    "PATH"
   ]
  },
  {
   "cell_type": "markdown",
   "metadata": {
    "colab_type": "text",
    "id": "laAiR9QcGYSI"
   },
   "source": [
    "##Creating Label Data"
   ]
  },
  {
   "cell_type": "code",
   "execution_count": null,
   "metadata": {
    "colab": {},
    "colab_type": "code",
    "id": "6LT6Za9piJHf"
   },
   "outputs": [],
   "source": [
    "for idx_cat,i in enumerate(os.listdir('divided-10cat/train')):\n",
    "    #print(cat)\n",
    "    train_files = 'divided-10cat/train/'+i\n",
    "    #print(train_files)\n",
    "    for train_idx,j in enumerate(os.listdir(train_files)):\n",
    "        New_train_labels.append(idx_cat)"
   ]
  },
  {
   "cell_type": "code",
   "execution_count": null,
   "metadata": {
    "colab": {},
    "colab_type": "code",
    "id": "I4I-CTZzJgw4"
   },
   "outputs": [],
   "source": [
    "for idx_cat,i in enumerate(os.listdir('divided-10cat/val')):\n",
    "    #print(cat)\n",
    "    val_files = 'divided-10cat/val/'+i\n",
    "    #print(train_files)\n",
    "    for val_idx,j in enumerate(os.listdir(val_files)):\n",
    "        Validation_labels.append(idx_cat)"
   ]
  },
  {
   "cell_type": "code",
   "execution_count": null,
   "metadata": {
    "colab": {},
    "colab_type": "code",
    "id": "5P0Oh3nqny5u"
   },
   "outputs": [],
   "source": [
    "for idx_cat,i in enumerate(os.listdir('divided-10cat/test')):\n",
    "    #print(cat)\n",
    "\n",
    "    test_files = 'divided-10cat/test/'+i\n",
    "   # print(test_files)\n",
    "    for train_idx,j in enumerate(os.listdir(test_files)):\n",
    "        Test_labels.append(idx_cat)"
   ]
  },
  {
   "cell_type": "code",
   "execution_count": null,
   "metadata": {
    "colab": {
     "base_uri": "https://localhost:8080/",
     "height": 35
    },
    "colab_type": "code",
    "executionInfo": {
     "elapsed": 2434,
     "status": "ok",
     "timestamp": 1592087760613,
     "user": {
      "displayName": "tejal nijai",
      "photoUrl": "",
      "userId": "06299012164194126657"
     },
     "user_tz": -60
    },
    "id": "9d_-Kk2QoJmy",
    "outputId": "5f01e5f3-4589-40ec-8888-a69362b9549b"
   },
   "outputs": [],
   "source": [
    "len(Test_labels)"
   ]
  },
  {
   "cell_type": "code",
   "execution_count": null,
   "metadata": {
    "colab": {
     "base_uri": "https://localhost:8080/",
     "height": 35
    },
    "colab_type": "code",
    "executionInfo": {
     "elapsed": 1285,
     "status": "ok",
     "timestamp": 1592087760614,
     "user": {
      "displayName": "tejal nijai",
      "photoUrl": "",
      "userId": "06299012164194126657"
     },
     "user_tz": -60
    },
    "id": "yD1Y-HjHoRh2",
    "outputId": "ffc744fd-a235-4f1f-c72b-e62ba7b4e4d7"
   },
   "outputs": [],
   "source": [
    "len(New_train_labels)"
   ]
  },
  {
   "cell_type": "code",
   "execution_count": null,
   "metadata": {
    "colab": {},
    "colab_type": "code",
    "id": "QygM-kBZmQS1"
   },
   "outputs": [],
   "source": [
    "list(set(New_train_labels))\n",
    "img_width, img_height = 224, 224"
   ]
  },
  {
   "cell_type": "markdown",
   "metadata": {
    "colab_type": "text",
    "id": "tnr6hCxOGlpg"
   },
   "source": [
    "##Display some pictures"
   ]
  },
  {
   "cell_type": "code",
   "execution_count": null,
   "metadata": {
    "colab": {},
    "colab_type": "code",
    "id": "3fFzCLDxXGQE"
   },
   "outputs": [],
   "source": [
    "# Show pictures\n",
    "import os, random\n",
    "import matplotlib.pyplot as plt\n",
    "import numpy as np\n",
    "from tensorflow.keras.preprocessing import image\n",
    "# from PIL import Image\n",
    "\n",
    "def show_pictures(path):\n",
    "    random_img = random.choice(os.listdir(path))\n",
    "    img_path = os.path.join(path, random_img)\n",
    "\n",
    "    img = image.load_img(img_path, target_size=(img_width, img_height))\n",
    "    img_tensor = image.img_to_array(img)  # Image data encoded as integers in the 0–255 range\n",
    "    img_tensor /= 255.  # Normalize to [0,1] for plt.imshow application\n",
    "    plt.imshow(img_tensor)\n",
    "    plt.show()"
   ]
  },
  {
   "cell_type": "code",
   "execution_count": null,
   "metadata": {},
   "outputs": [],
   "source": [
    "# pip install Pillow\n"
   ]
  },
  {
   "cell_type": "code",
   "execution_count": null,
   "metadata": {},
   "outputs": [],
   "source": [
    "# import sys\n",
    "# from PIL import Image\n",
    "# sys.modules['Image'] = Image "
   ]
  },
  {
   "cell_type": "code",
   "execution_count": null,
   "metadata": {},
   "outputs": [],
   "source": [
    "# import Image\n",
    "# print(Image.__file__)"
   ]
  },
  {
   "cell_type": "code",
   "execution_count": null,
   "metadata": {},
   "outputs": [],
   "source": [
    "# from PIL import Image\n",
    "# # print(Image.__file__)"
   ]
  },
  {
   "cell_type": "code",
   "execution_count": null,
   "metadata": {
    "colab": {
     "base_uri": "https://localhost:8080/",
     "height": 1000
    },
    "colab_type": "code",
    "executionInfo": {
     "elapsed": 4004,
     "status": "ok",
     "timestamp": 1592087780824,
     "user": {
      "displayName": "tejal nijai",
      "photoUrl": "",
      "userId": "06299012164194126657"
     },
     "user_tz": -60
    },
    "id": "MQMT7BjE1tMp",
    "outputId": "02d4137c-d331-4ae5-b10a-05a30a45f752"
   },
   "outputs": [],
   "source": [
    "for i in (os.listdir(train_dir)):\n",
    "  train_files = train_dir+'/'+i\n",
    "  print(i)\n",
    "  for i in range(0,2):\n",
    "       show_pictures(train_files)"
   ]
  },
  {
   "cell_type": "markdown",
   "metadata": {
    "colab_type": "text",
    "id": "neqiuLb7Gs2n"
   },
   "source": [
    "##VGG19 models Creation at different layers"
   ]
  },
  {
   "cell_type": "markdown",
   "metadata": {
    "colab_type": "text",
    "id": "KMezBwYjHDeb"
   },
   "source": [
    "###Using model as it is"
   ]
  },
  {
   "cell_type": "code",
   "execution_count": null,
   "metadata": {
    "colab": {
     "base_uri": "https://localhost:8080/",
     "height": 1000
    },
    "colab_type": "code",
    "executionInfo": {
     "elapsed": 6031,
     "status": "ok",
     "timestamp": 1592087785956,
     "user": {
      "displayName": "tejal nijai",
      "photoUrl": "",
      "userId": "06299012164194126657"
     },
     "user_tz": -60
    },
    "id": "VW_OUg_gmtKf",
    "outputId": "dfd27aa4-09bc-410c-d99c-aec209737d1a"
   },
   "outputs": [],
   "source": [
    "#Defining the Model VGG19\n",
    "from tensorflow.keras.models import load_model\n",
    "from tensorflow.keras import models\n",
    "from tensorflow.keras.models import Model\n",
    "from tensorflow.keras.layers import Input, Lambda, Dense, Flatten\n",
    "\n",
    "image_input = Input(shape=(224, 224, 3))\n",
    "VGG19_model1 = VGG19(input_tensor=image_input, include_top=True,weights='imagenet')\n",
    "VGG19_model1.summary()\n",
    "for layer in VGG19_model1.layers:\n",
    "  layer.trainable = False"
   ]
  },
  {
   "cell_type": "markdown",
   "metadata": {
    "colab_type": "text",
    "id": "ktvKoci-HKhy"
   },
   "source": [
    "###Model popping last dense layer"
   ]
  },
  {
   "cell_type": "code",
   "execution_count": null,
   "metadata": {
    "colab": {
     "base_uri": "https://localhost:8080/",
     "height": 941
    },
    "colab_type": "code",
    "executionInfo": {
     "elapsed": 468,
     "status": "ok",
     "timestamp": 1592087817958,
     "user": {
      "displayName": "tejal nijai",
      "photoUrl": "",
      "userId": "06299012164194126657"
     },
     "user_tz": -60
    },
    "id": "FLzPb9N61BJo",
    "outputId": "4cc2ffe5-fe2a-40d7-d91c-87d83b761fcc"
   },
   "outputs": [],
   "source": [
    "VGG19_model1.layers.pop() \n",
    "VGG19_model2 = Model(VGG19_model1.input, VGG19_model1.layers[-2].output)\n",
    "VGG19_model2.summary()\n",
    "\n",
    "for layer in VGG19_model2.layers:\n",
    "  layer.trainable = False"
   ]
  },
  {
   "cell_type": "markdown",
   "metadata": {
    "colab_type": "text",
    "id": "qcjqT79RHUOs"
   },
   "source": [
    "###Model popping Last Fully Connected layer"
   ]
  },
  {
   "cell_type": "code",
   "execution_count": null,
   "metadata": {
    "colab": {
     "base_uri": "https://localhost:8080/",
     "height": 906
    },
    "colab_type": "code",
    "executionInfo": {
     "elapsed": 469,
     "status": "ok",
     "timestamp": 1592087865641,
     "user": {
      "displayName": "tejal nijai",
      "photoUrl": "",
      "userId": "06299012164194126657"
     },
     "user_tz": -60
    },
    "id": "OAqapGs51Njk",
    "outputId": "919d1a21-ac99-44c8-9e4c-8eb096166815"
   },
   "outputs": [],
   "source": [
    "VGG19_model2.layers.pop() \n",
    "VGG19_model3 = Model(VGG19_model2.input, VGG19_model2.layers[-2].output)\n",
    "VGG19_model3.summary()\n",
    "\n",
    "\n",
    "for layer in VGG19_model3.layers:\n",
    "  layer.trainable = False"
   ]
  },
  {
   "cell_type": "markdown",
   "metadata": {
    "colab_type": "text",
    "id": "RHSJ-syTHogC"
   },
   "source": [
    "###Model popping second last Fully Connected layer"
   ]
  },
  {
   "cell_type": "code",
   "execution_count": null,
   "metadata": {
    "colab": {
     "base_uri": "https://localhost:8080/",
     "height": 870
    },
    "colab_type": "code",
    "executionInfo": {
     "elapsed": 447,
     "status": "ok",
     "timestamp": 1592087884222,
     "user": {
      "displayName": "tejal nijai",
      "photoUrl": "",
      "userId": "06299012164194126657"
     },
     "user_tz": -60
    },
    "id": "klyTFHXcHQDp",
    "outputId": "21fd3611-bccb-4748-a82f-d8d00a170a4c"
   },
   "outputs": [],
   "source": [
    "for layer in VGG19_model3.layers:\n",
    "  layer.trainable = False\n",
    "\n",
    "VGG19_model3.layers.pop() \n",
    "VGG19_model4 = Model(VGG19_model3.input, VGG19_model3.layers[-2].output)\n",
    "VGG19_model4.summary()\n",
    "\n",
    "for layer in VGG19_model4.layers:\n",
    "  layer.trainable = False"
   ]
  },
  {
   "cell_type": "markdown",
   "metadata": {
    "colab_type": "text",
    "id": "ClYOArOyH7QB"
   },
   "source": [
    "##InceptionV3 model"
   ]
  },
  {
   "cell_type": "code",
   "execution_count": null,
   "metadata": {
    "colab": {
     "base_uri": "https://localhost:8080/",
     "height": 1000
    },
    "colab_type": "code",
    "executionInfo": {
     "elapsed": 6335,
     "status": "ok",
     "timestamp": 1592087954924,
     "user": {
      "displayName": "tejal nijai",
      "photoUrl": "",
      "userId": "06299012164194126657"
     },
     "user_tz": -60
    },
    "id": "nzUaGpgRoIWa",
    "outputId": "1fb8ad35-be24-4afa-9790-1bd54d3062f7"
   },
   "outputs": [],
   "source": [
    "#Defining the Model InceptionV3\n",
    "from tensorflow.keras.layers import Input, Lambda, Dense, Flatten\n",
    "from tensorflow.keras.models import load_model\n",
    "from tensorflow.keras import models\n",
    "from tensorflow.keras.models import Model\n",
    "\n",
    "image_input = Input(shape=(224, 224, 3))\n",
    "InceptionV3_model1 = InceptionV3(input_tensor=image_input, include_top=True,weights='imagenet')\n",
    "InceptionV3_model1.summary()\n",
    "for layer in InceptionV3_model1.layers:\n",
    "  layer.trainable = False"
   ]
  },
  {
   "cell_type": "markdown",
   "metadata": {
    "colab_type": "text",
    "id": "6tC2SQI8IF7F"
   },
   "source": [
    "###Model popping last Dense layer"
   ]
  },
  {
   "cell_type": "code",
   "execution_count": null,
   "metadata": {
    "colab": {
     "base_uri": "https://localhost:8080/",
     "height": 1000
    },
    "colab_type": "code",
    "executionInfo": {
     "elapsed": 471,
     "status": "ok",
     "timestamp": 1592087997461,
     "user": {
      "displayName": "tejal nijai",
      "photoUrl": "",
      "userId": "06299012164194126657"
     },
     "user_tz": -60
    },
    "id": "nTTj7LC9oWwP",
    "outputId": "abff5296-ca42-404c-ef7a-904893043f47"
   },
   "outputs": [],
   "source": [
    "InceptionV3_model1.layers.pop() \n",
    "InceptionV3_model2 = Model(InceptionV3_model1.input, InceptionV3_model1.layers[-2].output)\n",
    "InceptionV3_model2.summary()\n",
    "\n",
    "for layer in InceptionV3_model2.layers:\n",
    "  layer.trainable = False"
   ]
  },
  {
   "cell_type": "markdown",
   "metadata": {
    "colab_type": "text",
    "id": "cOglUh3cINP1"
   },
   "source": [
    "###Model popping Average Pooling layer"
   ]
  },
  {
   "cell_type": "code",
   "execution_count": null,
   "metadata": {
    "colab": {
     "base_uri": "https://localhost:8080/",
     "height": 1000
    },
    "colab_type": "code",
    "executionInfo": {
     "elapsed": 606,
     "status": "ok",
     "timestamp": 1592091566447,
     "user": {
      "displayName": "tejal nijai",
      "photoUrl": "",
      "userId": "06299012164194126657"
     },
     "user_tz": -60
    },
    "id": "THznvCRy1oCK",
    "outputId": "4de5ab9a-63b6-401b-dc7f-d6af7786701d"
   },
   "outputs": [],
   "source": [
    "InceptionV3_model2.layers.pop() \n",
    "InceptionV3_model3 = Model(InceptionV3_model2.input, InceptionV3_model2.layers[-2].output)\n",
    "InceptionV3_model3.summary()\n",
    "\n",
    "for layer in InceptionV3_model3.layers:\n",
    "  layer.trainable = False"
   ]
  },
  {
   "cell_type": "markdown",
   "metadata": {
    "colab_type": "text",
    "id": "phoezEe9IVqG"
   },
   "source": [
    "##Feature Extraction Code"
   ]
  },
  {
   "cell_type": "code",
   "execution_count": null,
   "metadata": {
    "colab": {
     "base_uri": "https://localhost:8080/",
     "height": 34
    },
    "colab_type": "code",
    "executionInfo": {
     "elapsed": 10463,
     "status": "ok",
     "timestamp": 1586691288452,
     "user": {
      "displayName": "tejal nijai",
      "photoUrl": "",
      "userId": "06299012164194126657"
     },
     "user_tz": -60
    },
    "id": "1qSmOiCgm0BW",
    "outputId": "a40c27d2-402b-463b-af59-25e8a120f863"
   },
   "outputs": [],
   "source": [
    "#Extracting the feature Extraction\n",
    "\n",
    "import numpy as np\n",
    "\n",
    "import tensorflow.keras as keras\n",
    "import os\n",
    "import tensorflow as tf\n",
    "from tensorflow.keras.models import Model\n",
    "from tensorflow.keras.applications import VGG19\n",
    "from tensorflow.keras.applications import InceptionV3\n",
    "from tensorflow.keras.applications.vgg19 import preprocess_input\n",
    "from tensorflow.keras.preprocessing import image\n",
    "\n",
    "def images_to_array(dataset_dir,model):\n",
    " \n",
    "        dataset_array = []\n",
    "        \n",
    "        classes_names = os.listdir(dataset_dir)\n",
    "\n",
    "        for current_class_name in classes_names:\n",
    "            class_dir = os.path.join(dataset_dir, current_class_name)\n",
    "            images_in_class = os.listdir(class_dir)\n",
    "            #print(\"Class index\", class_counter, \", \", current_class_name, \":\" , len(images_in_class))\n",
    "\n",
    "            for image_file in images_in_class:\n",
    "                     if image_file.endswith(\".jpg\"):\n",
    "                        image_file_dir = os.path.join(class_dir, image_file)\n",
    "                        img = keras.preprocessing.image.load_img(image_file_dir, target_size=(224, 224))\n",
    "                        img_array = keras.preprocessing.image.img_to_array(img)\n",
    "                        img_data = np.expand_dims(img_array, axis=0)\n",
    "                        img_data = preprocess_input(img_data)\n",
    "                        VGG19_feature = model.predict(img_data)\n",
    "                        VGG19_feature_np = VGG19_feature.flatten()\n",
    "                        dataset_array.append(VGG19_feature_np)\n",
    "                        dataset_array_model = np.array(dataset_array)\n",
    "                        dataset_array_model.shape\n",
    "\n",
    "        return dataset_array_model"
   ]
  },
  {
   "cell_type": "markdown",
   "metadata": {
    "colab_type": "text",
    "id": "n8K4TVYOIb8s"
   },
   "source": [
    "##Extracting Features for VGG19 models defined"
   ]
  },
  {
   "cell_type": "code",
   "execution_count": null,
   "metadata": {
    "colab": {
     "base_uri": "https://localhost:8080/",
     "height": 52
    },
    "colab_type": "code",
    "executionInfo": {
     "elapsed": 1008890,
     "status": "ok",
     "timestamp": 1586653266360,
     "user": {
      "displayName": "tejal nijai",
      "photoUrl": "",
      "userId": "06299012164194126657"
     },
     "user_tz": -60
    },
    "id": "5_4KQvC_PWMv",
    "outputId": "a1602eea-d259-4f87-a09b-5a26116ab007"
   },
   "outputs": [],
   "source": [
    "#Without popping any layer for VGG19\n",
    "train_dataset_array1_VGG19 = images_to_array(dataset_dir=train_dir,model = VGG19_model1)\n",
    "Val_dataset_array1_VGG19 = images_to_array(dataset_dir=validation_dir,model = VGG19_model1)\n",
    "test_dataset_array1_VGG19 = images_to_array(dataset_dir=test_dir,model = VGG19_model1)\n",
    "print(\"Training Data Array Shape :\", len(train_dataset_array1_VGG19))\n",
    "print(\"Validation Data Array Shape :\", len(Val_dataset_array1_VGG19))\n",
    "print(\"Test Data Array Shape :\", len(test_dataset_array1_VGG19))"
   ]
  },
  {
   "cell_type": "code",
   "execution_count": null,
   "metadata": {
    "colab": {
     "base_uri": "https://localhost:8080/",
     "height": 52
    },
    "colab_type": "code",
    "executionInfo": {
     "elapsed": 348884,
     "status": "ok",
     "timestamp": 1586654027872,
     "user": {
      "displayName": "tejal nijai",
      "photoUrl": "",
      "userId": "06299012164194126657"
     },
     "user_tz": -60
    },
    "id": "Nr2LSooLwWov",
    "outputId": "589e1e97-8a13-4ec8-b808-1aaffeb3920c"
   },
   "outputs": [],
   "source": [
    "#With popping first layer\n",
    "train_dataset_array2_VGG19 = images_to_array(dataset_dir=train_dir,model = VGG19_model2)\n",
    "Val_dataset_array2_VGG19 = images_to_array(dataset_dir=validation_dir,model = VGG19_model2)\n",
    "test_dataset_array2_VGG19 = images_to_array(dataset_dir=test_dir,model = VGG19_model2)\n",
    "print(\"Training Data Array Shape :\", len(train_dataset_array2_VGG19))\n",
    "print(\"Validation Data Array Shape :\", len(Val_dataset_array2_VGG19))\n",
    "print(\"Test Data Array Shape :\", len(test_dataset_array2_VGG19))"
   ]
  },
  {
   "cell_type": "code",
   "execution_count": null,
   "metadata": {
    "colab": {
     "base_uri": "https://localhost:8080/",
     "height": 52
    },
    "colab_type": "code",
    "executionInfo": {
     "elapsed": 671870,
     "status": "ok",
     "timestamp": 1586654351947,
     "user": {
      "displayName": "tejal nijai",
      "photoUrl": "",
      "userId": "06299012164194126657"
     },
     "user_tz": -60
    },
    "id": "GyVDIN01wam5",
    "outputId": "88e35980-23e6-49be-8da9-99aa93d268fb"
   },
   "outputs": [],
   "source": [
    "#With popping Second layer\n",
    "train_dataset_array3_VGG19 = images_to_array(dataset_dir=train_dir,model = VGG19_model3)\n",
    "Val_dataset_array3_VGG19 = images_to_array(dataset_dir=validation_dir,model = VGG19_model3)\n",
    "test_dataset_array3_VGG19 = images_to_array(dataset_dir=test_dir,model = VGG19_model3)\n",
    "print(\"Training Data Array Shape :\", len(train_dataset_array3_VGG19))\n",
    "print(\"Validation Data Array Shape :\", len(Val_dataset_array3_VGG19))\n",
    "print(\"Test Data Array Shape :\", len(test_dataset_array3_VGG19))\n"
   ]
  },
  {
   "cell_type": "code",
   "execution_count": null,
   "metadata": {
    "colab": {
     "base_uri": "https://localhost:8080/",
     "height": 52
    },
    "colab_type": "code",
    "executionInfo": {
     "elapsed": 954515,
     "status": "ok",
     "timestamp": 1586654635404,
     "user": {
      "displayName": "tejal nijai",
      "photoUrl": "",
      "userId": "06299012164194126657"
     },
     "user_tz": -60
    },
    "id": "fDa36zhcwd1p",
    "outputId": "89f29b39-8ff5-416d-83c2-bd5554e073a9"
   },
   "outputs": [],
   "source": [
    "#With popping Third layer\n",
    "train_dataset_array4_VGG19 = images_to_array(dataset_dir=train_dir,model = VGG19_model4)\n",
    "Val_dataset_array4_VGG19 = images_to_array(dataset_dir=validation_dir,model = VGG19_model4)\n",
    "test_dataset_array4_VGG19 = images_to_array(dataset_dir=test_dir,model = VGG19_model4)\n",
    "print(\"Training Data Array Shape :\", len(train_dataset_array4_VGG19))\n",
    "print(\"Validation Data Array Shape :\", len(Val_dataset_array4_VGG19))\n",
    "print(\"Test Data Array Shape :\", len(test_dataset_array4_VGG19))"
   ]
  },
  {
   "cell_type": "markdown",
   "metadata": {
    "colab_type": "text",
    "id": "hbK2xK_SJD-b"
   },
   "source": [
    "##Extracting Features for InceptionV3 models defined"
   ]
  },
  {
   "cell_type": "code",
   "execution_count": null,
   "metadata": {
    "colab": {
     "base_uri": "https://localhost:8080/",
     "height": 52
    },
    "colab_type": "code",
    "executionInfo": {
     "elapsed": 1212764,
     "status": "ok",
     "timestamp": 1586654897115,
     "user": {
      "displayName": "tejal nijai",
      "photoUrl": "",
      "userId": "06299012164194126657"
     },
     "user_tz": -60
    },
    "id": "taptRpoettzs",
    "outputId": "5af3679b-643f-4f30-ae5e-153f3fcc3516"
   },
   "outputs": [],
   "source": [
    "#Without popping any layer for InceptionV3\n",
    "train_dataset_array1_InceptionV3 = images_to_array(dataset_dir=train_dir,model = InceptionV3_model1)\n",
    "Val_dataset_array1_InceptionV3 = images_to_array(dataset_dir=validation_dir,model = InceptionV3_model1)\n",
    "test_dataset_array1_InceptionV3 = images_to_array(dataset_dir=test_dir,model = InceptionV3_model1)\n",
    "print(\"Training Data Array Shape :\", len(train_dataset_array1_InceptionV3))\n",
    "print(\"Validation Data Array Shape :\", len(Val_dataset_array1_InceptionV3))\n",
    "print(\"Test Data Array Shape :\", len(test_dataset_array1_InceptionV3))"
   ]
  },
  {
   "cell_type": "code",
   "execution_count": null,
   "metadata": {
    "colab": {
     "base_uri": "https://localhost:8080/",
     "height": 52
    },
    "colab_type": "code",
    "executionInfo": {
     "elapsed": 1478290,
     "status": "ok",
     "timestamp": 1586655163383,
     "user": {
      "displayName": "tejal nijai",
      "photoUrl": "",
      "userId": "06299012164194126657"
     },
     "user_tz": -60
    },
    "id": "eq7DlFpbt48b",
    "outputId": "b63a4542-4f94-4b72-e0bd-2a312b51ca06"
   },
   "outputs": [],
   "source": [
    "#With popping first layer\n",
    "train_dataset_array2_InceptionV3 = images_to_array(dataset_dir=train_dir,model = InceptionV3_model2)\n",
    "Val_dataset_array2_InceptionV3 = images_to_array(dataset_dir=validation_dir,model = InceptionV3_model2)\n",
    "test_dataset_array2_InceptionV3 = images_to_array(dataset_dir=test_dir,model = InceptionV3_model2)\n",
    "print(\"Training Data Array Shape :\", len(train_dataset_array2_InceptionV3))\n",
    "print(\"Validation Data Array Shape :\", len(Val_dataset_array2_InceptionV3))\n",
    "print(\"Test Data Array Shape :\", len(test_dataset_array2_InceptionV3))\n"
   ]
  },
  {
   "cell_type": "code",
   "execution_count": null,
   "metadata": {
    "colab": {
     "base_uri": "https://localhost:8080/",
     "height": 52
    },
    "colab_type": "code",
    "executionInfo": {
     "elapsed": 2097652,
     "status": "ok",
     "timestamp": 1586655783362,
     "user": {
      "displayName": "tejal nijai",
      "photoUrl": "",
      "userId": "06299012164194126657"
     },
     "user_tz": -60
    },
    "id": "9qqs9WZ-uFLS",
    "outputId": "db226fba-b3a1-4717-badc-2ae8f3733fd7"
   },
   "outputs": [],
   "source": [
    "#With popping Second layer\n",
    "train_dataset_array3_InceptionV3 = images_to_array(dataset_dir=train_dir,model = InceptionV3_model3)\n",
    "Val_dataset_array3_InceptionV3 = images_to_array(dataset_dir=validation_dir,model = InceptionV3_model3)\n",
    "test_dataset_array3_InceptionV3 = images_to_array(dataset_dir=test_dir,model = InceptionV3_model3)\n",
    "print(\"Training Data Array Shape :\", len(train_dataset_array3_InceptionV3))\n",
    "print(\"Validation Data Array Shape :\", len(Val_dataset_array3_InceptionV3))\n",
    "print(\"Test Data Array Shape :\", len(test_dataset_array3_InceptionV3))\n"
   ]
  },
  {
   "cell_type": "markdown",
   "metadata": {
    "colab_type": "text",
    "id": "QTJ583hmJ9H3"
   },
   "source": [
    "###Saving extracted features of VGG19"
   ]
  },
  {
   "cell_type": "code",
   "execution_count": null,
   "metadata": {
    "colab": {},
    "colab_type": "code",
    "id": "P35LjQU3rSs_"
   },
   "outputs": [],
   "source": [
    "import numpy as np\n",
    "np.save(\"Saved_Features/10cat/VGG19/No_Layer_Removed/train-features-VGG19-0layer.npy\", train_dataset_array1_VGG19)\n",
    "np.save(\"Saved_Features/10cat/VGG19/No_Layer_Removed/train-labels-VGG19-0layer.npy\", New_train_labels)\n",
    "\n",
    "np.save(\"Saved_Features/10cat/VGG19/No_Layer_Removed/validation-features-VGG19-0layer.npy\", Val_dataset_array1_VGG19)\n",
    "np.save(\"Saved_Features/10cat/VGG19/No_Layer_Removed/validation-labels-VGG19-0layer.npy\", Validation_labels)\n",
    "\n",
    "np.save(\"Saved_Features/10cat/VGG19/No_Layer_Removed/test-features-VGG19-0layer.npy\", test_dataset_array1_VGG19)\n",
    "np.save(\"Saved_Features/10cat/VGG19/No_Layer_Removed/test-labels-VGG19-0layer.npy\", Test_labels)"
   ]
  },
  {
   "cell_type": "code",
   "execution_count": null,
   "metadata": {
    "colab": {},
    "colab_type": "code",
    "id": "11GlODy-T191"
   },
   "outputs": [],
   "source": [
    "import numpy as np\n",
    "np.save(\"Saved_Features/10cat/VGG19/First_Layer_Removed/train-features-VGG19-1layer.npy\", train_dataset_array2_VGG19)\n",
    "np.save(\"Saved_Features/10cat/VGG19/First_Layer_Removed/validation-features-VGG19-1layer.npy\", Val_dataset_array2_VGG19)\n",
    "np.save(\"Saved_Features/10cat/VGG19/First_Layer_Removed/test-features-VGG19-1layer.npy\", test_dataset_array2_VGG19)"
   ]
  },
  {
   "cell_type": "code",
   "execution_count": null,
   "metadata": {
    "colab": {},
    "colab_type": "code",
    "id": "lP-xJKUiT3Di"
   },
   "outputs": [],
   "source": [
    "import numpy as np\n",
    "np.save(\"Saved_Features/10cat/VGG19/Second_Layer_Removed/train-features-VGG19-2layer.npy\", train_dataset_array3_VGG19)\n",
    "np.save(\"Saved_Features/10cat/VGG19/Second_Layer_Removed/validation-features-VGG19-2layer.npy\", Val_dataset_array3_VGG19)\n",
    "np.save(\"Saved_Features/10cat/VGG19/Second_Layer_Removed/test-features-VGG19-2layer.npy\", test_dataset_array3_VGG19)"
   ]
  },
  {
   "cell_type": "code",
   "execution_count": null,
   "metadata": {
    "colab": {},
    "colab_type": "code",
    "id": "j91YqNZYT3u7"
   },
   "outputs": [],
   "source": [
    "import numpy as np\n",
    "np.save(\"Saved_Features/10cat/VGG19/Third_Layer_Removed/train-features-VGG19-3layer.npy\", train_dataset_array4_VGG19)\n",
    "np.save(\"Saved_Features/10cat/VGG19/Third_Layer_Removed/validation-features-VGG19-3layer.npy\", Val_dataset_array4_VGG19)\n",
    "np.save(\"Saved_Features/10cat/VGG19/Third_Layer_Removed/test-features-VGG19-3layer.npy\", test_dataset_array4_VGG19)"
   ]
  },
  {
   "cell_type": "markdown",
   "metadata": {
    "colab_type": "text",
    "id": "OTJ8ym0HKJNj"
   },
   "source": [
    "##Use the saved extracted features of VGG19"
   ]
  },
  {
   "cell_type": "code",
   "execution_count": null,
   "metadata": {
    "colab": {},
    "colab_type": "code",
    "id": "ekJ8d7KwNaau"
   },
   "outputs": [],
   "source": [
    "#Access the Features\n",
    "import numpy as np\n",
    "#np.load(\"/content/gdrive/My Drive/VGG19_Features/No_Layer_Removed/train-features-VGG19-0layer.npy\")\n",
    "train_dataset_array1_VGG19 = np.load(\"Saved_Features/10cat/VGG19/No_Layer_Removed/train-features-VGG19-0layer.npy\")\n",
    "New_train_labels = np.load(\"Saved_Features/10cat/VGG19/No_Layer_Removed/train-labels-VGG19-0layer.npy\")\n",
    "\n",
    "Val_dataset_array1_VGG19 = np.load(\"Saved_Features/10cat/VGG19/No_Layer_Removed/validation-features-VGG19-0layer.npy\")\n",
    "Validation_labels = np.load(\"Saved_Features/10cat/VGG19/No_Layer_Removed/validation-labels-VGG19-0layer.npy\")\n",
    "\n",
    "test_dataset_array1_VGG19 = np.load(\"Saved_Features/10cat/VGG19/No_Layer_Removed/test-features-VGG19-0layer.npy\")\n",
    "Test_labels = np.load(\"Saved_Features/10cat/VGG19/No_Layer_Removed/test-labels-VGG19-0layer.npy\")\n"
   ]
  },
  {
   "cell_type": "code",
   "execution_count": null,
   "metadata": {
    "colab": {},
    "colab_type": "code",
    "id": "esiZ_oqFbCKz"
   },
   "outputs": [],
   "source": [
    "train_dataset_array2_VGG19 = np.load(\"Saved_Features/10cat/VGG19/First_Layer_Removed/train-features-VGG19-1layer.npy\")\n",
    "Val_dataset_array2_VGG19 = np.load(\"Saved_Features/10cat/VGG19/First_Layer_Removed/validation-features-VGG19-1layer.npy\")\n",
    "test_dataset_array2_VGG19 = np.load(\"Saved_Features/10cat/VGG19/First_Layer_Removed/test-features-VGG19-1layer.npy\")"
   ]
  },
  {
   "cell_type": "code",
   "execution_count": null,
   "metadata": {
    "colab": {},
    "colab_type": "code",
    "id": "SrDWbDGPbaU-"
   },
   "outputs": [],
   "source": [
    "train_dataset_array3_VGG19 = np.load(\"Saved_Features/10cat/VGG19/Second_Layer_Removed/train-features-VGG19-2layer.npy\")\n",
    "Val_dataset_array3_VGG19 = np.load(\"Saved_Features/10cat/VGG19/Second_Layer_Removed/validation-features-VGG19-2layer.npy\")\n",
    "test_dataset_array3_VGG19 = np.load(\"Saved_Features/10cat/VGG19/Second_Layer_Removed/test-features-VGG19-2layer.npy\")"
   ]
  },
  {
   "cell_type": "code",
   "execution_count": null,
   "metadata": {
    "colab": {},
    "colab_type": "code",
    "id": "RK45HnMtEmSw"
   },
   "outputs": [],
   "source": [
    "train_dataset_array4_VGG19 = np.load(\"Saved_Features/10cat/VGG19/Third_Layer_Removed/train-features-VGG19-3layer.npy\")\n",
    "Val_dataset_array4_VGG19 = np.load(\"Saved_Features/10cat/VGG19/Third_Layer_Removed/validation-features-VGG19-3layer.npy\")\n",
    "test_dataset_array4_VGG19 = np.load(\"Saved_Features/10cat/VGG19/Third_Layer_Removed/test-features-VGG19-3layer.npy\")"
   ]
  },
  {
   "cell_type": "markdown",
   "metadata": {
    "colab_type": "text",
    "id": "dm1JAco-LWH-"
   },
   "source": [
    "## Saving InceptionV3 extracted Features"
   ]
  },
  {
   "cell_type": "code",
   "execution_count": null,
   "metadata": {
    "colab": {},
    "colab_type": "code",
    "id": "hv3kne9I_lJZ"
   },
   "outputs": [],
   "source": [
    "# #InceptionV3\n",
    "import numpy as np\n",
    "np.save(\"Saved_Features/10cat/InceptionV3/No_Layer_Removed/train-features-InceptionV3-0layer.npy\", train_dataset_array1_InceptionV3)\n",
    "np.save(\"Saved_Features/10cat/InceptionV3/No_Layer_Removed/validation-features-InceptionV3-0layer.npy\", Val_dataset_array1_InceptionV3)\n",
    "np.save(\"Saved_Features/10cat/InceptionV3/No_Layer_Removed/test-features-InceptionV3-0layer.npy\", test_dataset_array1_InceptionV3)"
   ]
  },
  {
   "cell_type": "code",
   "execution_count": null,
   "metadata": {
    "colab": {},
    "colab_type": "code",
    "id": "3L7LIV-qZOau"
   },
   "outputs": [],
   "source": [
    "#InceptionV3\n",
    "np.save(\"Saved_Features/10cat/InceptionV3/First_Layer_Removed/train-features-InceptionV3-1layer.npy\", train_dataset_array2_InceptionV3)\n",
    "np.save(\"Saved_Features/10cat/InceptionV3/First_Layer_Removed/validation-features-InceptionV3-1layer.npy\", Val_dataset_array2_InceptionV3)\n",
    "np.save(\"Saved_Features/10cat/InceptionV3/First_Layer_Removed/test-features-InceptionV3-1layer.npy\", test_dataset_array2_InceptionV3)"
   ]
  },
  {
   "cell_type": "code",
   "execution_count": null,
   "metadata": {
    "colab": {},
    "colab_type": "code",
    "id": "ykP78thDZPT8"
   },
   "outputs": [],
   "source": [
    "#InceptionV3\n",
    "np.save(\"Saved_Features/10cat/InceptionV3/Second_Layer_Removed/train-features-InceptionV3-2layer.npy\", train_dataset_array3_InceptionV3)\n",
    "np.save(\"Saved_Features/10cat/InceptionV3/Second_Layer_Removed/validation-features-InceptionV3-2layer.npy\", Val_dataset_array3_InceptionV3)\n",
    "np.save(\"Saved_Features/10cat/InceptionV3/Second_Layer_Removed/test-features-InceptionV3-2layer.npy\", test_dataset_array3_InceptionV3)"
   ]
  },
  {
   "cell_type": "markdown",
   "metadata": {
    "colab_type": "text",
    "id": "6rKwxSm4LtNi"
   },
   "source": [
    "##Use InceptionV3 Extracted Features"
   ]
  },
  {
   "cell_type": "code",
   "execution_count": null,
   "metadata": {
    "colab": {},
    "colab_type": "code",
    "id": "mVGc6Cd7HR-A"
   },
   "outputs": [],
   "source": [
    "#Access the Features InceptionV3\n",
    "import numpy as np\n",
    "train_dataset_array1_InceptionV3 = np.load(\"Saved_Features/10cat/InceptionV3/No_Layer_Removed/train-features-InceptionV3-0layer.npy\")\n",
    "Val_dataset_array1_InceptionV3 = np.load(\"Saved_Features/10cat/InceptionV3/No_Layer_Removed/validation-features-InceptionV3-0layer.npy\")\n",
    "test_dataset_array1_InceptionV3 = np.load(\"Saved_Features/10cat/InceptionV3/No_Layer_Removed/test-features-InceptionV3-0layer.npy\")"
   ]
  },
  {
   "cell_type": "code",
   "execution_count": null,
   "metadata": {
    "colab": {},
    "colab_type": "code",
    "id": "djldyaAWHZnz"
   },
   "outputs": [],
   "source": [
    "train_dataset_array2_InceptionV3 = np.load(\"Saved_Features/10cat/InceptionV3/First_Layer_Removed/train-features-InceptionV3-1layer.npy\")\n",
    "Val_dataset_array2_InceptionV3 = np.load(\"Saved_Features/10cat/InceptionV3/First_Layer_Removed/validation-features-InceptionV3-1layer.npy\")\n",
    "test_dataset_array2_InceptionV3 = np.load(\"Saved_Features/10cat/InceptionV3/First_Layer_Removed/test-features-InceptionV3-1layer.npy\")"
   ]
  },
  {
   "cell_type": "code",
   "execution_count": null,
   "metadata": {
    "colab": {},
    "colab_type": "code",
    "id": "ZRnn1ZRcHk6y"
   },
   "outputs": [],
   "source": [
    "train_dataset_array3_InceptionV3 = np.load(\"Saved_Features/10cat/InceptionV3/Second_Layer_Removed/train-features-InceptionV3-2layer.npy\")\n",
    "Val_dataset_array3_InceptionV3 = np.load(\"Saved_Features/10cat/InceptionV3/Second_Layer_Removed/validation-features-InceptionV3-2layer.npy\")\n",
    "test_dataset_array3_InceptionV3 = np.load(\"Saved_Features/10cat/InceptionV3/Second_Layer_Removed/test-features-InceptionV3-2layer.npy\")"
   ]
  },
  {
   "cell_type": "markdown",
   "metadata": {
    "colab_type": "text",
    "id": "1JLe65ZdMMOo"
   },
   "source": [
    "##Creating Final Extracted Features and Target Labels"
   ]
  },
  {
   "cell_type": "code",
   "execution_count": null,
   "metadata": {
    "colab": {},
    "colab_type": "code",
    "id": "NiiOhKRAqhrv"
   },
   "outputs": [],
   "source": [
    "#Clubbing Features\n",
    "train_dataset_array1_VGG19 = np.concatenate((train_dataset_array1_VGG19, Val_dataset_array1_VGG19))\n",
    "train_dataset_array2_VGG19= np.concatenate((train_dataset_array2_VGG19, Val_dataset_array2_VGG19))\n",
    "train_dataset_array3_VGG19 = np.concatenate((train_dataset_array3_VGG19, Val_dataset_array3_VGG19))\n",
    "train_dataset_array4_VGG19 = np.concatenate((train_dataset_array4_VGG19, Val_dataset_array4_VGG19))\n",
    "train_dataset_array1_InceptionV3 = np.concatenate((train_dataset_array1_InceptionV3, Val_dataset_array1_InceptionV3))\n",
    "train_dataset_array2_InceptionV3 = np.concatenate((train_dataset_array2_InceptionV3, Val_dataset_array2_InceptionV3))\n",
    "train_dataset_array3_InceptionV3 = np.concatenate((train_dataset_array3_InceptionV3, Val_dataset_array3_InceptionV3))\n",
    "New_train_labels = np.concatenate((New_train_labels, Validation_labels))"
   ]
  },
  {
   "cell_type": "markdown",
   "metadata": {},
   "source": [
    "# PCA\n"
   ]
  },
  {
   "cell_type": "code",
   "execution_count": null,
   "metadata": {},
   "outputs": [],
   "source": [
    "from sklearn.preprocessing import StandardScaler\n",
    "scaler = StandardScaler()\n",
    "\n",
    "# Fit on training set only.\n",
    "train_dataset_array1_InceptionV3 = scaler.fit_transform(train_dataset_array1_InceptionV3)\n",
    "train_dataset_array2_InceptionV3 = scaler.fit_transform(train_dataset_array2_InceptionV3)\n",
    "train_dataset_array3_InceptionV3 = scaler.fit_transform(train_dataset_array3_InceptionV3)\n",
    "\n",
    "train_dataset_array1_VGG19 = scaler.fit_transform(train_dataset_array1_VGG19)\n",
    "train_dataset_array2_VGG19 = scaler.fit_transform(train_dataset_array2_VGG19)\n",
    "train_dataset_array3_VGG19 = scaler.fit_transform(train_dataset_array3_VGG19)\n",
    "train_dataset_array4_VGG19 = scaler.fit_transform(train_dataset_array4_VGG19)\n",
    "\n",
    "\n",
    "# # # Apply transform to both the training set and the test set.\n",
    "# train_dataset_array1_InceptionV3 = scaler.transform(train_dataset_array1_InceptionV3)\n",
    "test_dataset_array1_InceptionV3 = scaler.fit_transform(test_dataset_array1_InceptionV3)\n",
    "\n",
    "# train_dataset_array2_InceptionV3 = scaler.transform(train_dataset_array2_InceptionV3)\n",
    "test_dataset_array2_InceptionV3 = scaler.fit_transform(test_dataset_array2_InceptionV3)\n",
    "\n",
    "# train_dataset_array3_InceptionV3 = scaler.transform(train_dataset_array3_InceptionV3)\n",
    "test_dataset_array3_InceptionV3 = scaler.fit_transform(test_dataset_array3_InceptionV3)\n",
    "\n",
    "\n",
    "\n",
    "# train_dataset_array1_VGG19 = scaler.transform(train_dataset_array1_VGG19)\n",
    "test_dataset_array1_VGG19 = scaler.fit_transform(test_dataset_array1_VGG19)\n",
    "\n",
    "# train_dataset_array2_VGG19 = scaler.transform(train_dataset_array2_VGG19)\n",
    "test_dataset_array2_VGG19 = scaler.fit_transform(test_dataset_array2_VGG19)\n",
    "\n",
    "# train_dataset_array3_VGG19 = scaler.transform(train_dataset_array3_VGG19)\n",
    "test_dataset_array3_VGG19 = scaler.fit_transform(test_dataset_array3_VGG19)\n",
    "\n",
    "# train_dataset_array4_VGG19 = scaler.transform(train_dataset_array4_VGG19)\n",
    "test_dataset_array4_VGG19 = scaler.fit_transform(test_dataset_array4_VGG19)"
   ]
  },
  {
   "cell_type": "code",
   "execution_count": null,
   "metadata": {},
   "outputs": [],
   "source": [
    "from sklearn.decomposition import PCA\n",
    "pca = PCA(.95)\n",
    "\n",
    "\n",
    "train_dataset_array1_InceptionV3 = pca.fit_transform(train_dataset_array1_InceptionV3)\n",
    "train_dataset_array2_InceptionV3 = pca.fit_transform(train_dataset_array2_InceptionV3)\n",
    "train_dataset_array3_InceptionV3 = pca.fit_transform(train_dataset_array3_InceptionV3)\n",
    "\n",
    "train_dataset_array1_VGG19 = pca.fit_transform(train_dataset_array1_VGG19)\n",
    "train_dataset_array2_VGG19 = pca.fit_transform(train_dataset_array2_VGG19)\n",
    "train_dataset_array3_VGG19 = pca.fit_transform(train_dataset_array2_VGG19)\n",
    "train_dataset_array4_VGG19 = pca.fit_transform(train_dataset_array4_VGG19)\n",
    "\n",
    "\n",
    "# Apply transform to both the training set and the test set.\n",
    "# train_dataset_array1_InceptionV3 = pca.transform(train_dataset_array1_InceptionV3)\n",
    "test_dataset_array1_InceptionV3 = pca.fit_transform(test_dataset_array1_InceptionV3)\n",
    "\n",
    "# train_dataset_array2_InceptionV3 = pca.transform(train_dataset_array2_InceptionV3)\n",
    "test_dataset_array2_InceptionV3 = pca.fit_transform(test_dataset_array2_InceptionV3)\n",
    "\n",
    "# train_dataset_array3_InceptionV3 = pca.transform(train_dataset_array3_InceptionV3)\n",
    "test_dataset_array3_InceptionV3 = pca.fit_transform(test_dataset_array3_InceptionV3)\n",
    "\n",
    "\n",
    "\n",
    "# train_dataset_array1_VGG19 = pca.transform(train_dataset_array1_VGG19)\n",
    "test_dataset_array1_VGG19 = pca.fit_transform(test_dataset_array1_VGG19)\n",
    "\n",
    "# train_dataset_array2_VGG19 = pca.transform(train_dataset_array2_VGG19)\n",
    "test_dataset_array2_VGG19 = pca.fit_transform(test_dataset_array2_VGG19)\n",
    "\n",
    "# train_dataset_array3_VGG19 = pca.transform(train_dataset_array3_VGG19)\n",
    "test_dataset_array3_VGG19 = pca.fit_transform(test_dataset_array3_VGG19)\n",
    "\n",
    "# train_dataset_array4_VGG19 = pca.transform(train_dataset_array4_VGG19)\n",
    "test_dataset_array4_VGG19 = pca.fit_transform(test_dataset_array4_VGG19)\n",
    "\n"
   ]
  },
  {
   "cell_type": "markdown",
   "metadata": {},
   "source": [
    "#"
   ]
  },
  {
   "cell_type": "markdown",
   "metadata": {
    "colab_type": "text",
    "id": "Gmjt2fTiMg3w"
   },
   "source": [
    "##Applying SVM Classifier on extracted models Features"
   ]
  },
  {
   "cell_type": "code",
   "execution_count": null,
   "metadata": {
    "colab": {},
    "colab_type": "code",
    "id": "q90FR4E0IwGF"
   },
   "outputs": [],
   "source": [
    "#Implementing Classifier SVM\n",
    "import sklearn\n",
    "from sklearn.model_selection import GridSearchCV, train_test_split\n",
    "from sklearn.metrics import confusion_matrix, classification_report\n",
    "from sklearn.svm import SVC\n",
    "# import sklearn.external as extjoblib\n",
    "import joblib\n",
    "from sklearn import svm, metrics, datasets"
   ]
  },
  {
   "cell_type": "code",
   "execution_count": null,
   "metadata": {
    "colab": {},
    "colab_type": "code",
    "id": "pGuCUHpfI8QL"
   },
   "outputs": [],
   "source": [
    "#Without removing any layer\n",
    "def SVM_Classifier(train_dataset_array,New_train_labels,test_dataset_array):\n",
    "      param_grid = [\n",
    "        {'C': [1, 10, 100, 1000], 'kernel': ['linear']},\n",
    "        {'C': [1, 10, 100, 1000], 'gamma': [0.001, 0.0001], 'kernel': ['rbf']},\n",
    "      ]\n",
    "      svc = svm.SVC()\n",
    "      clf = GridSearchCV(svc, param_grid, refit = True, verbose = 3, n_jobs=-1)\n",
    "      clf.fit(train_dataset_array,New_train_labels)\n",
    "      y_predict_svm = clf.predict(test_dataset_array)\n",
    "      return y_predict_svm"
   ]
  },
  {
   "cell_type": "code",
   "execution_count": null,
   "metadata": {
    "colab": {},
    "colab_type": "code",
    "id": "KVZNu9bskVkR"
   },
   "outputs": [],
   "source": [
    "# y_predict_svm1_VGG19 = SVM_Classifier(train_dataset_array1_VGG19,New_train_labels,test_dataset_array1_VGG19)\n",
    "y_predict_svm1_InceptionV3 = SVM_Classifier(train_dataset_array1_InceptionV3,New_train_labels,test_dataset_array1_InceptionV3)"
   ]
  },
  {
   "cell_type": "code",
   "execution_count": null,
   "metadata": {
    "colab": {},
    "colab_type": "code",
    "id": "2b6uu4zWmd4U"
   },
   "outputs": [],
   "source": [
    "y_predict_svm2_VGG19 = SVM_Classifier(train_dataset_array2_VGG19,New_train_labels,test_dataset_array2_VGG19)\n",
    "y_predict_svm2_InceptionV3 = SVM_Classifier(train_dataset_array2_InceptionV3,New_train_labels,test_dataset_array2_InceptionV3)"
   ]
  },
  {
   "cell_type": "code",
   "execution_count": null,
   "metadata": {
    "colab": {},
    "colab_type": "code",
    "id": "yLhoP_GsmfmW"
   },
   "outputs": [],
   "source": [
    "y_predict_svm3_VGG19 = SVM_Classifier(train_dataset_array3_VGG19,New_train_labels,test_dataset_array3_VGG19)\n",
    "y_predict_svm3_InceptionV3 = SVM_Classifier(train_dataset_array3_InceptionV3,New_train_labels,test_dataset_array3_InceptionV3)"
   ]
  },
  {
   "cell_type": "code",
   "execution_count": null,
   "metadata": {
    "colab": {},
    "colab_type": "code",
    "id": "ehMESjQxmhZT"
   },
   "outputs": [],
   "source": [
    "y_predict_svm4_VGG19 = SVM_Classifier(train_dataset_array4_VGG19,New_train_labels,test_dataset_array4_VGG19)"
   ]
  },
  {
   "cell_type": "code",
   "execution_count": null,
   "metadata": {
    "colab": {},
    "colab_type": "code",
    "id": "WqMIgB67bT-r"
   },
   "outputs": [],
   "source": [
    "# np.save('Results/y_predict_svm1_VGG19.npy',y_predict_svm1_VGG19)\n",
    "np.save('/content/gdrive/My Drive/Classifier_results/y_predict_svm1_InceptionV3.npy',y_predict_svm1_InceptionV3)\n",
    "\n",
    "np.save('/content/gdrive/My Drive/Classifier_results/y_predict_svm2_VGG19.npy',y_predict_svm2_VGG19)\n",
    "np.save('/content/gdrive/My Drive/Classifier_results/y_predict_svm2_InceptionV3.npy',y_predict_svm2_InceptionV3)\n",
    "\n",
    "np.save('/content/gdrive/My Drive/Classifier_results/y_predict_svm3_VGG19.npy',y_predict_svm3_VGG19)\n",
    "np.save('/content/gdrive/My Drive/Classifier_results/y_predict_svm3_InceptionV3.npy',y_predict_svm3_InceptionV3)\n",
    "\n",
    "np.save('/content/gdrive/My Drive/Classifier_results/y_predict_svm4_VGG19.npy',y_predict_svm4_VGG19)"
   ]
  },
  {
   "cell_type": "code",
   "execution_count": null,
   "metadata": {
    "colab": {},
    "colab_type": "code",
    "id": "xl6rgtkNOKZO"
   },
   "outputs": [],
   "source": [
    "y_predict_svm1_VGG19 = np.load('Results/y_predict_svm1_VGG19.npy')\n",
    "y_predict_svm2_VGG19 = np.load('Results/y_predict_svm2_VGG19.npy')\n",
    "y_predict_svm3_VGG19 = np.load('Results/y_predict_svm3_VGG19.npy')\n",
    "y_predict_svm4_VGG19 = np.load('Results/y_predict_svm4_VGG19.npy')\n",
    "\n",
    "y_predict_svm1_InceptionV3 = np.load('Results/y_predict_svm1_InceptionV3.npy')\n",
    "y_predict_svm2_InceptionV3 = np.load('Results/y_predict_svm2_InceptionV3.npy')\n",
    "y_predict_svm3_InceptionV3 =   np.load('Results/y_predict_svm3_InceptionV3.npy')"
   ]
  },
  {
   "cell_type": "markdown",
   "metadata": {
    "colab_type": "text",
    "id": "NtF7gRzoM0da"
   },
   "source": [
    "##Applying Random Forest Classifier on extracted model Features"
   ]
  },
  {
   "cell_type": "code",
   "execution_count": null,
   "metadata": {
    "colab": {},
    "colab_type": "code",
    "id": "UTV8M0xdf3M1"
   },
   "outputs": [],
   "source": [
    "def RF_Classifier(train_dataset_array,New_train_labels,test_dataset_array):\n",
    "    #Import Random Forest Model\n",
    "    from sklearn.ensemble import RandomForestClassifier\n",
    "\n",
    "    #Create a Gaussian Classifier\n",
    "    clf=RandomForestClassifier(n_estimators=100, n_jobs=-1)\n",
    "\n",
    "    #Train the model using the training sets y_pred=clf.predict(X_test)\n",
    "    clf.fit(train_dataset_array, New_train_labels)\n",
    "\n",
    "    y_predict = clf.predict(test_dataset_array)\n",
    "    return y_predict"
   ]
  },
  {
   "cell_type": "code",
   "execution_count": null,
   "metadata": {
    "colab": {},
    "colab_type": "code",
    "id": "5-VY6vTnsYkC"
   },
   "outputs": [],
   "source": [
    "y_predict_rf1_VGG19 = RF_Classifier(train_dataset_array1_VGG19,New_train_labels,test_dataset_array1_VGG19)\n",
    "y_predict_rf2_VGG19 = RF_Classifier(train_dataset_array2_VGG19,New_train_labels,test_dataset_array2_VGG19)\n",
    "y_predict_rf3_VGG19 = RF_Classifier(train_dataset_array3_VGG19,New_train_labels,test_dataset_array3_VGG19)\n",
    "y_predict_rf4_VGG19 = RF_Classifier(train_dataset_array4_VGG19,New_train_labels,test_dataset_array4_VGG19)"
   ]
  },
  {
   "cell_type": "code",
   "execution_count": null,
   "metadata": {
    "colab": {},
    "colab_type": "code",
    "id": "ikTA8ZBlcPWT"
   },
   "outputs": [],
   "source": [
    "np.save(\"Results/y_predict_rf1_VGG19_10cat.npy\",y_predict_rf1_VGG19)\n",
    "np.save(\"Results/y_predict_rf2_VGG19_10cat.npy\",y_predict_rf2_VGG19)\n",
    "np.save(\"Results/y_predict_rf3_VGG19_10cat.npy\",y_predict_rf3_VGG19)\n",
    "np.save(\"Results/y_predict_rf4_VGG19_10cat.npy\",y_predict_rf4_VGG19)"
   ]
  },
  {
   "cell_type": "code",
   "execution_count": null,
   "metadata": {
    "colab": {},
    "colab_type": "code",
    "id": "sm7Fec96uAVD"
   },
   "outputs": [],
   "source": [
    "y_predict_rf1_InceptionV3 = RF_Classifier(train_dataset_array1_InceptionV3,New_train_labels,test_dataset_array1_InceptionV3)\n",
    "y_predict_rf2_InceptionV3 = RF_Classifier(train_dataset_array2_InceptionV3,New_train_labels,test_dataset_array2_InceptionV3)\n",
    "y_predict_rf3_InceptionV3 = RF_Classifier(train_dataset_array3_InceptionV3,New_train_labels,test_dataset_array3_InceptionV3)"
   ]
  },
  {
   "cell_type": "code",
   "execution_count": null,
   "metadata": {
    "colab": {},
    "colab_type": "code",
    "id": "TcMxfEMZcaht"
   },
   "outputs": [],
   "source": [
    "np.save(\"Results/y_predict_rf1_InceptionV3_10cat.npy\",y_predict_rf1_InceptionV3)\n",
    "np.save(\"Results/y_predict_rf2_InceptionV3_10cat.npy\",y_predict_rf2_InceptionV3)\n",
    "np.save(\"Results/y_predict_rf3_InceptionV3_10cat.npy\",y_predict_rf3_InceptionV3)"
   ]
  },
  {
   "cell_type": "code",
   "execution_count": null,
   "metadata": {},
   "outputs": [],
   "source": [
    "y_predict_rf1_VGG19 = np.load('Results/y_predict_rf1_VGG19_10cat.npy')\n",
    "y_predict_rf2_VGG19 = np.load('Results/y_predict_rf2_VGG19_10cat.npy')\n",
    "y_predict_rf3_VGG19 = np.load('Results/y_predict_rf3_VGG19_10cat.npy')\n",
    "y_predict_rf4_VGG19 = np.load('Results/y_predict_rf4_VGG19_10cat.npy')\n",
    "\n",
    "y_predict_rf1_InceptionV3 = np.load('Results/y_predict_rf1_InceptionV3_10cat.npy')\n",
    "y_predict_rf2_InceptionV3 = np.load('Results/y_predict_rf2_InceptionV3_10cat.npy')\n",
    "y_predict_rf3_InceptionV3 =   np.load('Results/y_predict_rf3_InceptionV3_10cat.npy')"
   ]
  },
  {
   "cell_type": "markdown",
   "metadata": {
    "colab_type": "text",
    "id": "ReUQWGaJM6z5"
   },
   "source": [
    "##Applying XGBoost Classifier on extracted model Features"
   ]
  },
  {
   "cell_type": "code",
   "execution_count": null,
   "metadata": {},
   "outputs": [],
   "source": [
    "pip install xgboost"
   ]
  },
  {
   "cell_type": "code",
   "execution_count": null,
   "metadata": {
    "colab": {},
    "colab_type": "code",
    "id": "FCF2WJ0tFTTv"
   },
   "outputs": [],
   "source": [
    "def XGBoost_Classifier(train_dataset_array, New_train_labels,test_dataset_array):\n",
    "  #XGBoost\n",
    "  from numpy import loadtxt\n",
    "  from xgboost import XGBClassifier\n",
    "\n",
    "  # fit model no training data\n",
    "  model = XGBClassifier( learning_rate =0.1,\n",
    "              n_estimators=1000,\n",
    "              max_depth=5,\n",
    "              min_child_weight=1,\n",
    "              gamma=0,\n",
    "              subsample=0.8,\n",
    "              colsample_bytree=0.8,\n",
    "              objective= 'binary:logistic',\n",
    "              nthread=4,\n",
    "              scale_pos_weight=1,\n",
    "              seed=27,\n",
    "              n_jobs=-1)\n",
    " \n",
    "  #model=XGBClassifier()\n",
    "  model.fit(train_dataset_array, New_train_labels)\n",
    "  y_predict = model.predict(test_dataset_array)\n",
    "  return y_predict"
   ]
  },
  {
   "cell_type": "code",
   "execution_count": null,
   "metadata": {
    "colab": {},
    "colab_type": "code",
    "id": "wkYntN4AHrei"
   },
   "outputs": [],
   "source": [
    "y_predict_xg1_VGG19 = XGBoost_Classifier(train_dataset_array1_VGG19, New_train_labels,test_dataset_array1_VGG19)\n",
    "y_predict_xg2_VGG19 = XGBoost_Classifier(train_dataset_array2_VGG19, New_train_labels,test_dataset_array2_VGG19)\n",
    "y_predict_xg3_VGG19 = XGBoost_Classifier(train_dataset_array3_VGG19, New_train_labels,test_dataset_array3_VGG19)\n",
    "y_predict_xg4_VGG19 = XGBoost_Classifier(train_dataset_array4_VGG19, New_train_labels,test_dataset_array4_VGG19)"
   ]
  },
  {
   "cell_type": "code",
   "execution_count": null,
   "metadata": {
    "colab": {},
    "colab_type": "code",
    "id": "jVJq5hbmc4jo"
   },
   "outputs": [],
   "source": [
    "np.save(\"Results/y_predict_xg1_VGG19_10cat.npy\",y_predict_xg1_VGG19)\n",
    "np.save(\"Results/y_predict_xg2_VGG19_10cat.npy\",y_predict_xg2_VGG19)\n",
    "np.save(\"Results/y_predict_xg3_VGG19_10cat.npy\",y_predict_xg3_VGG19)\n",
    "np.save(\"Results/y_predict_xg4_VGG19_10cat.npy\",y_predict_xg4_VGG19)"
   ]
  },
  {
   "cell_type": "code",
   "execution_count": null,
   "metadata": {
    "colab": {},
    "colab_type": "code",
    "id": "SJbGpZ7xwUtf"
   },
   "outputs": [],
   "source": [
    "y_predict_xg1_InceptionV3 = XGBoost_Classifier(train_dataset_array1_InceptionV3, New_train_labels,test_dataset_array1_InceptionV3)\n",
    "y_predict_xg2_InceptionV3 = XGBoost_Classifier(train_dataset_array2_InceptionV3, New_train_labels,test_dataset_array2_InceptionV3)\n",
    "y_predict_xg3_InceptionV3 = XGBoost_Classifier(train_dataset_array3_InceptionV3, New_train_labels,test_dataset_array3_InceptionV3)"
   ]
  },
  {
   "cell_type": "code",
   "execution_count": null,
   "metadata": {
    "colab": {},
    "colab_type": "code",
    "id": "LC0hfRcsc56c"
   },
   "outputs": [],
   "source": [
    "np.save(\"Results/y_predict_xg1_InceptionV3_10cat.npy\",y_predict_xg1_InceptionV3)\n",
    "np.save(\"Results/y_predict_xg2_InceptionV3_10cat.npy\",y_predict_xg2_InceptionV3)\n",
    "np.save(\"Results/y_predict_xg3_InceptionV3_10cat.npy\",y_predict_xg3_InceptionV3)"
   ]
  },
  {
   "cell_type": "code",
   "execution_count": null,
   "metadata": {},
   "outputs": [],
   "source": [
    "y_predict_xg1_VGG19 = np.load('Results/y_predict_xg1_VGG19_10cat.npy')\n",
    "y_predict_xg2_VGG19 = np.load('Results/y_predict_xg2_VGG19_10cat.npy')\n",
    "y_predict_xg3_VGG19 = np.load('Results/y_predict_xg3_VGG19_10cat.npy')\n",
    "y_predict_xg4_VGG19 = np.load('Results/y_predict_xg4_VGG19_10cat.npy')\n",
    "\n",
    "y_predict_xg1_InceptionV3 = np.load('Results/y_predict_xg1_InceptionV3_10cat.npy')\n",
    "y_predict_xg2_InceptionV3 = np.load('Results/y_predict_xg2_InceptionV3_10cat.npy')\n",
    "y_predict_xg3_InceptionV3 =   np.load('Results/y_predict_xg3_InceptionV3_10cat.npy')"
   ]
  },
  {
   "cell_type": "markdown",
   "metadata": {
    "colab_type": "text",
    "id": "QVGE4sSQNAZD"
   },
   "source": [
    "##Applying Naive Bayes Classifier on extracted model Features"
   ]
  },
  {
   "cell_type": "code",
   "execution_count": null,
   "metadata": {
    "colab": {},
    "colab_type": "code",
    "id": "fAXD1JRNIlD8"
   },
   "outputs": [],
   "source": [
    "def NB_Classifier(train_dataset_array,New_train_labels,test_dataset_array):\n",
    "  #Import Gaussian Naive Bayes model\n",
    "  from sklearn.naive_bayes import GaussianNB\n",
    "\n",
    "  #Create a Gaussian Classifier\n",
    "  model = GaussianNB()\n",
    "\n",
    "  # Train the model using the training sets\n",
    "  model.fit(train_dataset_array,New_train_labels)\n",
    "  y_predict = model.predict(test_dataset_array)\n",
    "  return y_predict"
   ]
  },
  {
   "cell_type": "code",
   "execution_count": null,
   "metadata": {
    "colab": {},
    "colab_type": "code",
    "id": "9rMVjfNAvAdU"
   },
   "outputs": [],
   "source": [
    "y_predict_NB1_VGG19 = NB_Classifier(train_dataset_array1_VGG19,New_train_labels,test_dataset_array1_VGG19)\n",
    "y_predict_NB2_VGG19 = NB_Classifier(train_dataset_array2_VGG19,New_train_labels,test_dataset_array2_VGG19)\n",
    "y_predict_NB3_VGG19 = NB_Classifier(train_dataset_array3_VGG19,New_train_labels,test_dataset_array3_VGG19)\n",
    "y_predict_NB4_VGG19 = NB_Classifier(train_dataset_array4_VGG19,New_train_labels,test_dataset_array4_VGG19)"
   ]
  },
  {
   "cell_type": "code",
   "execution_count": null,
   "metadata": {
    "colab": {},
    "colab_type": "code",
    "id": "DAqrTZ6jdN4p"
   },
   "outputs": [],
   "source": [
    "np.save(\"Results/y_predict_NB1_VGG19_10cat.npy\",y_predict_NB1_VGG19)\n",
    "np.save(\"Results/y_predict_NB2_VGG19_10cat.npy\",y_predict_NB2_VGG19)\n",
    "np.save(\"Results/y_predict_NB3_VGG19_10cat.npy\",y_predict_NB3_VGG19)\n",
    "np.save(\"Results/y_predict_NB4_VGG19_10cat.npy\",y_predict_NB4_VGG19)"
   ]
  },
  {
   "cell_type": "code",
   "execution_count": null,
   "metadata": {
    "colab": {},
    "colab_type": "code",
    "id": "E4EN4V3pxdqe"
   },
   "outputs": [],
   "source": [
    "y_predict_NB1_InceptionV3 = NB_Classifier(train_dataset_array1_InceptionV3,New_train_labels,test_dataset_array1_InceptionV3)\n",
    "y_predict_NB2_InceptionV3 = NB_Classifier(train_dataset_array2_InceptionV3,New_train_labels,test_dataset_array2_InceptionV3)\n",
    "y_predict_NB3_InceptionV3 = NB_Classifier(train_dataset_array3_InceptionV3,New_train_labels,test_dataset_array3_InceptionV3)"
   ]
  },
  {
   "cell_type": "code",
   "execution_count": null,
   "metadata": {
    "colab": {},
    "colab_type": "code",
    "id": "eqjCabtCdaBu"
   },
   "outputs": [],
   "source": [
    "np.save(\"Results/y_predict_NB1_InceptionV3_10cat.npy\",y_predict_NB1_InceptionV3)\n",
    "np.save(\"Results/y_predict_NB2_InceptionV3_10cat.npy\",y_predict_NB2_InceptionV3)\n",
    "np.save(\"Results/y_predict_NB3_InceptionV3_10cat.npy\",y_predict_NB3_InceptionV3)"
   ]
  },
  {
   "cell_type": "code",
   "execution_count": null,
   "metadata": {},
   "outputs": [],
   "source": [
    "y_predict_NB1_VGG19 = np.load('Results/y_predict_NB1_VGG19_10cat.npy')\n",
    "y_predict_NB2_VGG19 = np.load('Results/y_predict_NB2_VGG19_10cat.npy')\n",
    "y_predict_NB3_VGG19 = np.load('Results/y_predict_NB3_VGG19_10cat.npy')\n",
    "y_predict_NB4_VGG19 = np.load('Results/y_predict_NB4_VGG19_10cat.npy')\n",
    "\n",
    "y_predict_NB1_InceptionV3 = np.load('Results/y_predict_NB1_InceptionV3_10cat.npy')\n",
    "y_predict_NB2_InceptionV3 = np.load('Results/y_predict_NB2_InceptionV3_10cat.npy')\n",
    "y_predict_NB3_InceptionV3 =  np.load('Results/y_predict_NB3_InceptionV3_10cat.npy')"
   ]
  },
  {
   "cell_type": "markdown",
   "metadata": {
    "colab_type": "text",
    "id": "PbHfD9JUNGVn"
   },
   "source": [
    "##Applying Bayesian Ridge Classifier on extracted model Features"
   ]
  },
  {
   "cell_type": "code",
   "execution_count": null,
   "metadata": {
    "colab": {},
    "colab_type": "code",
    "id": "9qdK4nPvLi5S"
   },
   "outputs": [],
   "source": [
    "def Ridge_Classifier(train_dataset_array, New_train_labels,test_dataset_array):\n",
    "  from sklearn import linear_model\n",
    "  from sklearn.linear_model import RidgeClassifier\n",
    "  clf = RidgeClassifier().fit(train_dataset_array, New_train_labels)\n",
    "  y_pred_br = clf.predict(test_dataset_array)\n",
    "  return y_pred_br"
   ]
  },
  {
   "cell_type": "code",
   "execution_count": null,
   "metadata": {
    "colab": {},
    "colab_type": "code",
    "id": "6l5L8jXTw5oo"
   },
   "outputs": [],
   "source": [
    "y_predict_Ridge1_VGG19 = Ridge_Classifier(train_dataset_array1_VGG19, New_train_labels,test_dataset_array1_VGG19)\n",
    "y_predict_Ridge2_VGG19 = Ridge_Classifier(train_dataset_array2_VGG19, New_train_labels,test_dataset_array2_VGG19)\n",
    "y_predict_Ridge3_VGG19 = Ridge_Classifier(train_dataset_array3_VGG19, New_train_labels,test_dataset_array3_VGG19)\n",
    "y_predict_Ridge4_VGG19 = Ridge_Classifier(train_dataset_array4_VGG19, New_train_labels,test_dataset_array4_VGG19)"
   ]
  },
  {
   "cell_type": "code",
   "execution_count": null,
   "metadata": {
    "colab": {},
    "colab_type": "code",
    "id": "kZrqi7jKdkjx"
   },
   "outputs": [],
   "source": [
    "np.save(\"Results/y_predict_Ridge1_VGG19_10cat.npy\",y_predict_Ridge1_VGG19)\n",
    "np.save(\"Results/y_predict_Ridge2_VGG19_10cat.npy\",y_predict_Ridge2_VGG19)\n",
    "np.save(\"Results/y_predict_Ridge3_VGG19_10cat.npy\",y_predict_Ridge3_VGG19)\n",
    "np.save(\"Results/y_predict_Ridge4_VGG19_10cat.npy\",y_predict_Ridge4_VGG19)"
   ]
  },
  {
   "cell_type": "code",
   "execution_count": null,
   "metadata": {
    "colab": {},
    "colab_type": "code",
    "id": "qlOrY5_fx9kp"
   },
   "outputs": [],
   "source": [
    "y_predict_Ridge1_InceptionV3 = Ridge_Classifier(train_dataset_array1_InceptionV3, New_train_labels,test_dataset_array1_InceptionV3)\n",
    "y_predict_Ridge2_InceptionV3 = Ridge_Classifier(train_dataset_array2_InceptionV3, New_train_labels,test_dataset_array2_InceptionV3)\n",
    "y_predict_Ridge3_InceptionV3 = Ridge_Classifier(train_dataset_array3_InceptionV3, New_train_labels,test_dataset_array3_InceptionV3)"
   ]
  },
  {
   "cell_type": "code",
   "execution_count": null,
   "metadata": {
    "colab": {},
    "colab_type": "code",
    "id": "oleMpbj3dwCu"
   },
   "outputs": [],
   "source": [
    "np.save(\"Results/y_predict_Ridge1_InceptionV3_10cat.npy\",y_predict_Ridge1_InceptionV3)\n",
    "np.save(\"Results/y_predict_Ridge2_InceptionV3_10cat.npy\",y_predict_Ridge2_InceptionV3)\n",
    "np.save(\"Results/y_predict_Ridge3_InceptionV3_10cat.npy\",y_predict_Ridge3_InceptionV3)"
   ]
  },
  {
   "cell_type": "code",
   "execution_count": null,
   "metadata": {},
   "outputs": [],
   "source": [
    "y_predict_Ridge1_VGG19 = np.load('Results/y_predict_Ridge1_VGG19_10cat.npy')\n",
    "y_predict_Ridge2_VGG19 = np.load('Results/y_predict_Ridge2_VGG19_10cat.npy')\n",
    "y_predict_Ridge3_VGG19 = np.load('Results/y_predict_Ridge3_VGG19_10cat.npy')\n",
    "y_predict_Ridge4_VGG19 = np.load('Results/y_predict_Ridge4_VGG19_10cat.npy')\n",
    "\n",
    "y_predict_Ridge1_InceptionV3 = np.load('Results/y_predict_Ridge1_InceptionV3_10cat.npy')\n",
    "y_predict_Ridge2_InceptionV3 = np.load('Results/y_predict_Ridge2_InceptionV3_10cat.npy')\n",
    "y_predict_Ridge3_InceptionV3 =  np.load('Results/y_predict_Ridge3_InceptionV3_10cat.npy')"
   ]
  },
  {
   "cell_type": "code",
   "execution_count": null,
   "metadata": {},
   "outputs": [],
   "source": [
    "pip install PrettyTable"
   ]
  },
  {
   "cell_type": "markdown",
   "metadata": {
    "colab_type": "text",
    "id": "HJtPo69BNMM1"
   },
   "source": [
    "##Displaying Tabular Results for Accuracy"
   ]
  },
  {
   "cell_type": "code",
   "execution_count": 47,
   "metadata": {
    "colab": {},
    "colab_type": "code",
    "id": "nEfaBCAgepul"
   },
   "outputs": [
    {
     "name": "stdout",
     "output_type": "stream",
     "text": [
      "\n",
      "VGG19(Accuracy):\n",
      "+---------------+--------+---------------+---------+-------------+---------------------------+\n",
      "| Removed Layer |  SVM   | Random Forest | XGBoost | Naive Bayes | Bayesian Ridge Regression |\n",
      "+---------------+--------+---------------+---------+-------------+---------------------------+\n",
      "|       0       | 82.79% |     85.84%    |  80.05% |    74.00%   |           78.58%          |\n",
      "|       1       | 80.24% |     88.24%    |  78.98% |    80.61%   |           83.66%          |\n",
      "|       2       | 82.56% |     87.94%    |  83.60% |    79.01%   |           82.86%          |\n",
      "|       3       | 81.61% |     83.59%    |  79.24% |    73.28%   |           88.89%          |\n",
      "+---------------+--------+---------------+---------+-------------+---------------------------+\n"
     ]
    }
   ],
   "source": [
    "from prettytable import PrettyTable\n",
    "print(\"\\nVGG19(Accuracy):\")\n",
    "t = PrettyTable(['Removed Layer','SVM', 'Random Forest','XGBoost','Naive Bayes','Bayesian Ridge Regression'])\n",
    "t.add_row([0, \"{:.2%}\".format(accuracy_score(Test_labels,y_predict_svm1_VGG19)),\"{:.2%}\".format(accuracy_score(Test_labels,y_predict_rf1_VGG19)),\"{:.2%}\".format(accuracy_score(Test_labels,y_predict_xg1_VGG19)),\"{:.2%}\".format(accuracy_score(Test_labels,y_predict_NB1_VGG19)),\"{:.2%}\".format(accuracy_score(Test_labels,y_predict_Ridge1_VGG19))])\n",
    "t.add_row([1, \"{:.2%}\".format(accuracy_score(Test_labels,y_predict_svm2_VGG19)),\"{:.2%}\".format(accuracy_score(Test_labels,y_predict_rf2_VGG19)),\"{:.2%}\".format(accuracy_score(Test_labels,y_predict_xg2_VGG19)),\"{:.2%}\".format(accuracy_score(Test_labels,y_predict_NB2_VGG19)),\"{:.2%}\".format(accuracy_score(Test_labels,y_predict_Ridge2_VGG19))])\n",
    "t.add_row([2, \"{:.2%}\".format(accuracy_score(Test_labels,y_predict_svm3_VGG19)),\"{:.2%}\".format(accuracy_score(Test_labels,y_predict_rf3_VGG19)),\"{:.2%}\".format(accuracy_score(Test_labels,y_predict_xg3_VGG19)),\"{:.2%}\".format(accuracy_score(Test_labels,y_predict_NB3_VGG19)),\"{:.2%}\".format(accuracy_score(Test_labels,y_predict_Ridge3_VGG19))])\n",
    "t.add_row([3, \"{:.2%}\".format(accuracy_score(Test_labels,y_predict_svm4_VGG19)),\"{:.2%}\".format(accuracy_score(Test_labels,y_predict_rf4_VGG19)),\"{:.2%}\".format(accuracy_score(Test_labels,y_predict_xg4_VGG19)),\"{:.2%}\".format(accuracy_score(Test_labels,y_predict_NB4_VGG19)),\"{:.2%}\".format(accuracy_score(Test_labels,y_predict_Ridge4_VGG19))])\n",
    "print(t)"
   ]
  },
  {
   "cell_type": "code",
   "execution_count": 48,
   "metadata": {
    "colab": {},
    "colab_type": "code",
    "id": "69kaCIj_yWQB"
   },
   "outputs": [
    {
     "name": "stdout",
     "output_type": "stream",
     "text": [
      "\n",
      "InceptionV3(Accuracy):\n",
      "+---------------+--------+---------------+---------+-------------+---------------------------+\n",
      "| Removed Layer |  SVM   | Random Forest | XGBoost | Naive Bayes | Bayesian Ridge Regression |\n",
      "+---------------+--------+---------------+---------+-------------+---------------------------+\n",
      "|       0       | 84.42% |     45.53%    |  81.72% |    4.43%    |           40.67%          |\n",
      "|       1       | 85.80% |     63.04%    |  80.58% |    33.04%   |           66.01%          |\n",
      "|       2       | 82.02% |     65.07%    |  80.95% |    47.42%   |           72.40%          |\n",
      "+---------------+--------+---------------+---------+-------------+---------------------------+\n"
     ]
    }
   ],
   "source": [
    "from prettytable import PrettyTable\n",
    "print(\"\\nInceptionV3(Accuracy):\")\n",
    "t = PrettyTable(['Removed Layer','SVM', 'Random Forest','XGBoost','Naive Bayes','Bayesian Ridge Regression'])\n",
    "t.add_row([0, \"{:.2%}\".format(accuracy_score(Test_labels,y_predict_svm1_InceptionV3)),\"{:.2%}\".format(accuracy_score(Test_labels,y_predict_rf1_InceptionV3)),\"{:.2%}\".format(accuracy_score(Test_labels,y_predict_xg1_InceptionV3)),\"{:.2%}\".format(accuracy_score(Test_labels,y_predict_NB1_InceptionV3)),\"{:.2%}\".format(accuracy_score(Test_labels,y_predict_Ridge1_InceptionV3))])\n",
    "t.add_row([1, \"{:.2%}\".format(accuracy_score(Test_labels,y_predict_svm2_InceptionV3)),\"{:.2%}\".format(accuracy_score(Test_labels,y_predict_rf2_InceptionV3)),\"{:.2%}\".format(accuracy_score(Test_labels,y_predict_xg2_InceptionV3)),\"{:.2%}\".format(accuracy_score(Test_labels,y_predict_NB2_InceptionV3)),\"{:.2%}\".format(accuracy_score(Test_labels,y_predict_Ridge2_InceptionV3))])\n",
    "t.add_row([2, \"{:.2%}\".format(accuracy_score(Test_labels,y_predict_svm3_InceptionV3)),\"{:.2%}\".format(accuracy_score(Test_labels,y_predict_rf3_InceptionV3)),\"{:.2%}\".format(accuracy_score(Test_labels,y_predict_xg3_InceptionV3)),\"{:.2%}\".format(accuracy_score(Test_labels,y_predict_NB3_InceptionV3)),\"{:.2%}\".format(accuracy_score(Test_labels,y_predict_Ridge3_InceptionV3))])\n",
    "print(t)"
   ]
  },
  {
   "cell_type": "markdown",
   "metadata": {
    "colab_type": "text",
    "id": "Uh570gsyNZq4"
   },
   "source": [
    "##Displaying Tabular Results for Precision"
   ]
  },
  {
   "cell_type": "code",
   "execution_count": 49,
   "metadata": {
    "colab": {},
    "colab_type": "code",
    "id": "hDhBzuji0Y9Z"
   },
   "outputs": [
    {
     "name": "stdout",
     "output_type": "stream",
     "text": [
      "\n",
      "VGG19(Precision):\n",
      "+---------------+--------+---------------+---------+-------------+---------------------------+\n",
      "| Removed Layer |  SVM   | Random Forest | XGBoost | Naive Bayes | Bayesian Ridge Regression |\n",
      "+---------------+--------+---------------+---------+-------------+---------------------------+\n",
      "|       0       | 69.02% |     69.52%    |  78.35% |    55.31%   |           54.52%          |\n",
      "|       1       | 81.45% |     71.36%    |  80.71% |    56.22%   |           68.64%          |\n",
      "|       2       | 75.98% |     61.35%    |  79.80% |    55.43%   |           67.36%          |\n",
      "|       3       | 81.54% |     58.91%    |  77.16% |    48.67%   |           76.34%          |\n",
      "+---------------+--------+---------------+---------+-------------+---------------------------+\n"
     ]
    }
   ],
   "source": [
    "from sklearn.metrics import precision_score\n",
    "print(\"\\nVGG19(Precision):\")\n",
    "t = PrettyTable(['Removed Layer','SVM', 'Random Forest','XGBoost','Naive Bayes','Bayesian Ridge Regression'])\n",
    "t.add_row([0, \"{:.2%}\".format(precision_score(Test_labels,y_predict_svm1_VGG19, average='macro')),\"{:.2%}\".format(precision_score(Test_labels,y_predict_rf1_VGG19, average='macro')),\"{:.2%}\".format(precision_score(Test_labels,y_predict_xg1_VGG19, average='macro')),\"{:.2%}\".format(precision_score(Test_labels,y_predict_NB1_VGG19, average='macro')),\"{:.2%}\".format(precision_score(Test_labels,y_predict_Ridge1_VGG19, average='macro'))])\n",
    "t.add_row([1, \"{:.2%}\".format(precision_score(Test_labels,y_predict_svm2_VGG19, average='macro')),\"{:.2%}\".format(precision_score(Test_labels,y_predict_rf2_VGG19, average='macro')),\"{:.2%}\".format(precision_score(Test_labels,y_predict_xg2_VGG19, average='macro')),\"{:.2%}\".format(precision_score(Test_labels,y_predict_NB2_VGG19, average='macro')),\"{:.2%}\".format(precision_score(Test_labels,y_predict_Ridge2_VGG19, average='macro'))])\n",
    "t.add_row([2, \"{:.2%}\".format(precision_score(Test_labels,y_predict_svm3_VGG19, average='macro')),\"{:.2%}\".format(precision_score(Test_labels,y_predict_rf3_VGG19, average='macro')),\"{:.2%}\".format(precision_score(Test_labels,y_predict_xg3_VGG19, average='macro')),\"{:.2%}\".format(precision_score(Test_labels,y_predict_NB3_VGG19, average='macro')),\"{:.2%}\".format(precision_score(Test_labels,y_predict_Ridge3_VGG19, average='macro'))])\n",
    "t.add_row([3, \"{:.2%}\".format(precision_score(Test_labels,y_predict_svm4_VGG19, average='macro')),\"{:.2%}\".format(precision_score(Test_labels,y_predict_rf4_VGG19, average='macro')),\"{:.2%}\".format(precision_score(Test_labels,y_predict_xg4_VGG19, average='macro')),\"{:.2%}\".format(precision_score(Test_labels,y_predict_NB4_VGG19, average='macro')),\"{:.2%}\".format(precision_score(Test_labels,y_predict_Ridge4_VGG19, average='macro'))])\n",
    "print(t)"
   ]
  },
  {
   "cell_type": "code",
   "execution_count": 50,
   "metadata": {
    "colab": {},
    "colab_type": "code",
    "id": "NwG0Eo5Uzh1M"
   },
   "outputs": [
    {
     "name": "stdout",
     "output_type": "stream",
     "text": [
      "\n",
      "InceptionV3(Precision):\n",
      "+---------------+--------+---------------+---------+-------------+---------------------------+\n",
      "| Removed Layer |  SVM   | Random Forest | XGBoost | Naive Bayes | Bayesian Ridge Regression |\n",
      "+---------------+--------+---------------+---------+-------------+---------------------------+\n",
      "|       0       | 75.05% |     22.72%    |  74.54% |    17.96%   |           18.43%          |\n",
      "|       1       | 79.54% |     42.24%    |  79.23% |    26.65%   |           46.16%          |\n",
      "|       2       | 72.67% |     36.40%    |  76.71% |    27.53%   |           55.05%          |\n",
      "+---------------+--------+---------------+---------+-------------+---------------------------+\n"
     ]
    }
   ],
   "source": [
    "from sklearn.metrics import precision_score\n",
    "print(\"\\nInceptionV3(Precision):\")\n",
    "t = PrettyTable(['Removed Layer','SVM', 'Random Forest','XGBoost','Naive Bayes','Bayesian Ridge Regression'])\n",
    "t.add_row([0, \"{:.2%}\".format(precision_score(Test_labels,y_predict_svm1_InceptionV3, average='macro')),\"{:.2%}\".format(precision_score(Test_labels,y_predict_rf1_InceptionV3, average='macro')),\"{:.2%}\".format(precision_score(Test_labels,y_predict_xg1_InceptionV3, average='macro')),\"{:.2%}\".format(precision_score(Test_labels,y_predict_NB1_InceptionV3, average='macro')),\"{:.2%}\".format(precision_score(Test_labels,y_predict_Ridge1_InceptionV3, average='macro'))])\n",
    "t.add_row([1, \"{:.2%}\".format(precision_score(Test_labels,y_predict_svm2_InceptionV3, average='macro')),\"{:.2%}\".format(precision_score(Test_labels,y_predict_rf2_InceptionV3, average='macro')),\"{:.2%}\".format(precision_score(Test_labels,y_predict_xg2_InceptionV3, average='macro')),\"{:.2%}\".format(precision_score(Test_labels,y_predict_NB2_InceptionV3, average='macro')),\"{:.2%}\".format(precision_score(Test_labels,y_predict_Ridge2_InceptionV3, average='macro'))])\n",
    "t.add_row([2, \"{:.2%}\".format(precision_score(Test_labels,y_predict_svm3_InceptionV3, average='macro')),\"{:.2%}\".format(precision_score(Test_labels,y_predict_rf3_InceptionV3, average='macro')),\"{:.2%}\".format(precision_score(Test_labels,y_predict_xg3_InceptionV3, average='macro')),\"{:.2%}\".format(precision_score(Test_labels,y_predict_NB3_InceptionV3, average='macro')),\"{:.2%}\".format(precision_score(Test_labels,y_predict_Ridge3_InceptionV3, average='macro'))])\n",
    "print(t)"
   ]
  },
  {
   "cell_type": "markdown",
   "metadata": {
    "colab_type": "text",
    "id": "BhdPLYgeNcwM"
   },
   "source": [
    "##Displaying Tabular Results for Recall"
   ]
  },
  {
   "cell_type": "code",
   "execution_count": 51,
   "metadata": {
    "colab": {},
    "colab_type": "code",
    "id": "LpqrdeizvasX"
   },
   "outputs": [
    {
     "name": "stdout",
     "output_type": "stream",
     "text": [
      "\n",
      "VGG19(Recall):\n",
      "+---------------+--------+---------------+---------+-------------+---------------------------+\n",
      "| Removed Layer |  SVM   | Random Forest | XGBoost | Naive Bayes | Bayesian Ridge Regression |\n",
      "+---------------+--------+---------------+---------+-------------+---------------------------+\n",
      "|       0       | 57.21% |     59.63%    |  55.05% |    60.04%   |           51.63%          |\n",
      "|       1       | 52.64% |     61.72%    |  59.65% |    58.67%   |           61.52%          |\n",
      "|       2       | 56.58% |     59.82%    |  50.95% |    57.08%   |           61.43%          |\n",
      "|       3       | 51.84% |     54.24%    |  51.26% |    43.36%   |           64.98%          |\n",
      "+---------------+--------+---------------+---------+-------------+---------------------------+\n"
     ]
    }
   ],
   "source": [
    "from sklearn.metrics import recall_score\n",
    "print(\"\\nVGG19(Recall):\")\n",
    "t = PrettyTable(['Removed Layer','SVM', 'Random Forest','XGBoost','Naive Bayes','Bayesian Ridge Regression'])\n",
    "t.add_row([0, \"{:.2%}\".format(recall_score(Test_labels, y_predict_svm1_VGG19, average='macro')),\"{:.2%}\".format(recall_score(Test_labels, y_predict_rf1_VGG19, average='macro')),\"{:.2%}\".format(recall_score(Test_labels, y_predict_xg1_VGG19, average='macro')),\"{:.2%}\".format(recall_score(Test_labels, y_predict_NB1_VGG19, average='macro')),\"{:.2%}\".format(recall_score(Test_labels, y_predict_Ridge1_VGG19, average='macro'))])\n",
    "t.add_row([1, \"{:.2%}\".format(recall_score(Test_labels, y_predict_svm2_VGG19, average='macro')),\"{:.2%}\".format(recall_score(Test_labels, y_predict_rf2_VGG19, average='macro')),\"{:.2%}\".format(recall_score(Test_labels, y_predict_xg2_VGG19, average='macro')),\"{:.2%}\".format(recall_score(Test_labels, y_predict_NB2_VGG19, average='macro')),\"{:.2%}\".format(recall_score(Test_labels, y_predict_Ridge2_VGG19, average='macro'))])\n",
    "t.add_row([2, \"{:.2%}\".format(recall_score(Test_labels, y_predict_svm3_VGG19, average='macro')),\"{:.2%}\".format(recall_score(Test_labels, y_predict_rf3_VGG19, average='macro')),\"{:.2%}\".format(recall_score(Test_labels, y_predict_xg3_VGG19, average='macro')),\"{:.2%}\".format(recall_score(Test_labels, y_predict_NB3_VGG19, average='macro')),\"{:.2%}\".format(recall_score(Test_labels, y_predict_Ridge3_VGG19, average='macro'))])\n",
    "t.add_row([3, \"{:.2%}\".format(recall_score(Test_labels, y_predict_svm4_VGG19, average='macro')),\"{:.2%}\".format(recall_score(Test_labels, y_predict_rf4_VGG19, average='macro')),\"{:.2%}\".format(recall_score(Test_labels, y_predict_xg4_VGG19, average='macro')),\"{:.2%}\".format(recall_score(Test_labels, y_predict_NB4_VGG19, average='macro')),\"{:.2%}\".format(recall_score(Test_labels, y_predict_Ridge4_VGG19, average='macro'))])\n",
    "print(t)"
   ]
  },
  {
   "cell_type": "code",
   "execution_count": 52,
   "metadata": {
    "colab": {},
    "colab_type": "code",
    "id": "iLbhD4Ce13xQ"
   },
   "outputs": [
    {
     "name": "stdout",
     "output_type": "stream",
     "text": [
      "\n",
      "InceptionV3(Recall):\n",
      "+---------------+--------+---------------+---------+-------------+---------------------------+\n",
      "| Removed Layer |  SVM   | Random Forest | XGBoost | Naive Bayes | Bayesian Ridge Regression |\n",
      "+---------------+--------+---------------+---------+-------------+---------------------------+\n",
      "|       0       | 42.64% |     21.20%    |  55.32% |    12.58%   |           17.22%          |\n",
      "|       1       | 48.60% |     34.53%    |  45.50% |    28.81%   |           41.93%          |\n",
      "|       2       | 45.86% |     34.78%    |  46.94% |    26.23%   |           48.12%          |\n",
      "+---------------+--------+---------------+---------+-------------+---------------------------+\n"
     ]
    }
   ],
   "source": [
    "from sklearn.metrics import recall_score\n",
    "print(\"\\nInceptionV3(Recall):\")\n",
    "t = PrettyTable(['Removed Layer','SVM', 'Random Forest','XGBoost','Naive Bayes','Bayesian Ridge Regression'])\n",
    "t.add_row([0, \"{:.2%}\".format(recall_score(Test_labels, y_predict_svm1_InceptionV3, average='macro')),\"{:.2%}\".format(recall_score(Test_labels, y_predict_rf1_InceptionV3, average='macro')),\"{:.2%}\".format(recall_score(Test_labels, y_predict_xg1_InceptionV3, average='macro')),\"{:.2%}\".format(recall_score(Test_labels, y_predict_NB1_InceptionV3, average='macro')),\"{:.2%}\".format(recall_score(Test_labels, y_predict_Ridge1_InceptionV3, average='macro'))])\n",
    "t.add_row([1, \"{:.2%}\".format(recall_score(Test_labels, y_predict_svm2_InceptionV3, average='macro')),\"{:.2%}\".format(recall_score(Test_labels, y_predict_rf2_InceptionV3, average='macro')),\"{:.2%}\".format(recall_score(Test_labels, y_predict_xg2_InceptionV3, average='macro')),\"{:.2%}\".format(recall_score(Test_labels, y_predict_NB2_InceptionV3, average='macro')),\"{:.2%}\".format(recall_score(Test_labels, y_predict_Ridge2_InceptionV3, average='macro'))])\n",
    "t.add_row([2, \"{:.2%}\".format(recall_score(Test_labels, y_predict_svm3_InceptionV3, average='macro')),\"{:.2%}\".format(recall_score(Test_labels, y_predict_rf3_InceptionV3, average='macro')),\"{:.2%}\".format(recall_score(Test_labels, y_predict_xg3_InceptionV3, average='macro')),\"{:.2%}\".format(recall_score(Test_labels, y_predict_NB3_InceptionV3, average='macro')),\"{:.2%}\".format(recall_score(Test_labels, y_predict_Ridge3_InceptionV3, average='macro'))])\n",
    "print(t)"
   ]
  },
  {
   "cell_type": "markdown",
   "metadata": {
    "colab_type": "text",
    "id": "IvrhivUNNhfI"
   },
   "source": [
    "##Displaying Tabular Results for F1 Score"
   ]
  },
  {
   "cell_type": "code",
   "execution_count": 54,
   "metadata": {
    "colab": {},
    "colab_type": "code",
    "id": "wlSJsVAVvyXj"
   },
   "outputs": [
    {
     "name": "stdout",
     "output_type": "stream",
     "text": [
      "\n",
      "VGG19(F1 Score):\n",
      "+---------------+--------+---------------+---------+-------------+---------------------------+\n",
      "| Removed Layer |  SVM   | Random Forest | XGBoost | Naive Bayes | Bayesian Ridge Regression |\n",
      "+---------------+--------+---------------+---------+-------------+---------------------------+\n",
      "|       0       | 59.26% |     61.37%    |  64.67% |    55.24%   |           52.49%          |\n",
      "|       1       | 63.95% |     63.35%    |  68.60% |    57.10%   |           63.23%          |\n",
      "|       2       | 64.86% |     60.36%    |  62.19% |    55.42%   |           63.40%          |\n",
      "|       3       | 63.38% |     55.38%    |  61.60% |    43.26%   |           67.05%          |\n",
      "+---------------+--------+---------------+---------+-------------+---------------------------+\n"
     ]
    }
   ],
   "source": [
    "from sklearn.metrics import f1_score\n",
    "print(\"\\nVGG19(F1 Score):\")\n",
    "t = PrettyTable(['Removed Layer','SVM', 'Random Forest','XGBoost','Naive Bayes','Bayesian Ridge Regression'])\n",
    "t.add_row([0, \"{:.2%}\".format(f1_score(Test_labels, y_predict_svm1_VGG19, average='macro')),\"{:.2%}\".format(f1_score(Test_labels, y_predict_rf1_VGG19, average='macro')),\"{:.2%}\".format(f1_score(Test_labels, y_predict_xg1_VGG19, average='macro')),\"{:.2%}\".format(f1_score(Test_labels, y_predict_NB1_VGG19, average='macro')),\"{:.2%}\".format(f1_score(Test_labels, y_predict_Ridge1_VGG19, average='macro'))])\n",
    "t.add_row([1, \"{:.2%}\".format(f1_score(Test_labels, y_predict_svm2_VGG19, average='macro')),\"{:.2%}\".format(f1_score(Test_labels, y_predict_rf2_VGG19, average='macro')),\"{:.2%}\".format(f1_score(Test_labels, y_predict_xg2_VGG19, average='macro')),\"{:.2%}\".format(f1_score(Test_labels, y_predict_NB2_VGG19, average='macro')),\"{:.2%}\".format(f1_score(Test_labels, y_predict_Ridge2_VGG19, average='macro'))])\n",
    "t.add_row([2, \"{:.2%}\".format(f1_score(Test_labels, y_predict_svm3_VGG19, average='macro')),\"{:.2%}\".format(f1_score(Test_labels, y_predict_rf3_VGG19, average='macro')),\"{:.2%}\".format(f1_score(Test_labels, y_predict_xg3_VGG19, average='macro')),\"{:.2%}\".format(f1_score(Test_labels, y_predict_NB3_VGG19, average='macro')),\"{:.2%}\".format(f1_score(Test_labels, y_predict_Ridge3_VGG19, average='macro'))])\n",
    "t.add_row([3, \"{:.2%}\".format(f1_score(Test_labels, y_predict_svm4_VGG19, average='macro')),\"{:.2%}\".format(f1_score(Test_labels, y_predict_rf4_VGG19, average='macro')),\"{:.2%}\".format(f1_score(Test_labels, y_predict_xg4_VGG19, average='macro')),\"{:.2%}\".format(f1_score(Test_labels, y_predict_NB4_VGG19, average='macro')),\"{:.2%}\".format(f1_score(Test_labels, y_predict_Ridge4_VGG19, average='macro'))])\n",
    "print(t)"
   ]
  },
  {
   "cell_type": "code",
   "execution_count": 55,
   "metadata": {
    "colab": {},
    "colab_type": "code",
    "id": "VUr4b3OO2mIR"
   },
   "outputs": [
    {
     "name": "stdout",
     "output_type": "stream",
     "text": [
      "\n",
      "InceptionV3(F1 Score):\n",
      "+---------------+--------+---------------+---------+-------------+---------------------------+\n",
      "| Removed Layer |  SVM   | Random Forest | XGBoost | Naive Bayes | Bayesian Ridge Regression |\n",
      "+---------------+--------+---------------+---------+-------------+---------------------------+\n",
      "|       0       | 54.38% |     20.36%    |  63.51% |    5.60%    |           14.22%          |\n",
      "|       1       | 60.33% |     34.69%    |  57.80% |    21.22%   |           43.02%          |\n",
      "|       2       | 56.23% |     34.04%    |  58.24% |    25.80%   |           49.79%          |\n",
      "+---------------+--------+---------------+---------+-------------+---------------------------+\n"
     ]
    }
   ],
   "source": [
    "from sklearn.metrics import f1_score\n",
    "print(\"\\nInceptionV3(F1 Score):\")\n",
    "t = PrettyTable(['Removed Layer','SVM', 'Random Forest','XGBoost','Naive Bayes','Bayesian Ridge Regression'])\n",
    "t.add_row([0, \"{:.2%}\".format(f1_score(Test_labels, y_predict_svm1_InceptionV3, average='macro')),\"{:.2%}\".format(f1_score(Test_labels, y_predict_rf1_InceptionV3, average='macro')),\"{:.2%}\".format(f1_score(Test_labels, y_predict_xg1_InceptionV3, average='macro')),\"{:.2%}\".format(f1_score(Test_labels, y_predict_NB1_InceptionV3, average='macro')),\"{:.2%}\".format(f1_score(Test_labels, y_predict_Ridge1_InceptionV3, average='macro'))])\n",
    "t.add_row([1, \"{:.2%}\".format(f1_score(Test_labels, y_predict_svm2_InceptionV3, average='macro')),\"{:.2%}\".format(f1_score(Test_labels, y_predict_rf2_InceptionV3, average='macro')),\"{:.2%}\".format(f1_score(Test_labels, y_predict_xg2_InceptionV3, average='macro')),\"{:.2%}\".format(f1_score(Test_labels, y_predict_NB2_InceptionV3, average='macro')),\"{:.2%}\".format(f1_score(Test_labels, y_predict_Ridge2_InceptionV3, average='macro'))])\n",
    "t.add_row([2, \"{:.2%}\".format(f1_score(Test_labels, y_predict_svm3_InceptionV3, average='macro')),\"{:.2%}\".format(f1_score(Test_labels, y_predict_rf3_InceptionV3, average='macro')),\"{:.2%}\".format(f1_score(Test_labels, y_predict_xg3_InceptionV3, average='macro')),\"{:.2%}\".format(f1_score(Test_labels, y_predict_NB3_InceptionV3, average='macro')),\"{:.2%}\".format(f1_score(Test_labels, y_predict_Ridge3_InceptionV3, average='macro'))])\n",
    "print(t)"
   ]
  },
  {
   "cell_type": "code",
   "execution_count": null,
   "metadata": {},
   "outputs": [],
   "source": []
  }
 ],
 "metadata": {
  "accelerator": "TPU",
  "colab": {
   "collapsed_sections": [],
   "machine_shape": "hm",
   "name": "Vgg16_Resnet50_MLClassifiers (2).ipynb",
   "provenance": [
    {
     "file_id": "1RLfvg6r-WXxuhFRPkW3hrXqNlS050nUH",
     "timestamp": 1582417044748
    }
   ]
  },
  "kernelspec": {
   "display_name": "Python 3",
   "language": "python",
   "name": "python3"
  },
  "language_info": {
   "codemirror_mode": {
    "name": "ipython",
    "version": 3
   },
   "file_extension": ".py",
   "mimetype": "text/x-python",
   "name": "python",
   "nbconvert_exporter": "python",
   "pygments_lexer": "ipython3",
   "version": "3.7.7"
  }
 },
 "nbformat": 4,
 "nbformat_minor": 4
}
